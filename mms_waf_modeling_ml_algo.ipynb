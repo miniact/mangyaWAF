{
  "nbformat": 4,
  "nbformat_minor": 0,
  "metadata": {
    "colab": {
      "name": "mms waf modeling ml algo.ipynb",
      "provenance": [],
      "include_colab_link": true
    },
    "kernelspec": {
      "name": "python3",
      "display_name": "Python 3"
    }
  },
  "cells": [
    {
      "cell_type": "markdown",
      "metadata": {
        "id": "view-in-github",
        "colab_type": "text"
      },
      "source": [
        "<a href=\"https://colab.research.google.com/github/miniact/mangyaWAF/blob/master/mms_waf_modeling_ml_algo.ipynb\" target=\"_parent\"><img src=\"https://colab.research.google.com/assets/colab-badge.svg\" alt=\"Open In Colab\"/></a>"
      ]
    },
    {
      "cell_type": "markdown",
      "metadata": {
        "id": "Vm0t92a3hl4J",
        "colab_type": "text"
      },
      "source": [
        "# Modeling and evaluation of machine learning model"
      ]
    },
    {
      "cell_type": "markdown",
      "metadata": {
        "id": "VCVqlBxXhwFC",
        "colab_type": "text"
      },
      "source": [
        "Import all dependencies\n"
      ]
    },
    {
      "cell_type": "code",
      "metadata": {
        "id": "ewjujWwfhWxP",
        "colab_type": "code",
        "colab": {}
      },
      "source": [
        "%matplotlib inline\n",
        "import pandas as pd\n",
        "import matplotlib.pyplot as plt\n",
        "import numpy as np\n",
        "import string\n",
        "import pickle\n",
        "from IPython.display import display\n",
        "#evaluations\n",
        "from sklearn.metrics import confusion_matrix\n",
        "from sklearn.metrics import roc_curve"
      ],
      "execution_count": null,
      "outputs": []
    },
    {
      "cell_type": "code",
      "metadata": {
        "id": "NzNxagY3iBNQ",
        "colab_type": "code",
        "colab": {
          "base_uri": "https://localhost:8080/",
          "height": 436
        },
        "outputId": "f85f517b-8074-4541-d380-872316719a2f"
      },
      "source": [
        "data = pd.read_csv(\"https://trello-attachments.s3.amazonaws.com/5ed2d4107c349c221194b608/5ed2d453f0e5a45bcd8cf16c/9d9eab0bcf8afdfbdff5fdb173f78cd6/final-allpayload.csv\",index_col=\"index\")\n",
        "data"
      ],
      "execution_count": null,
      "outputs": [
        {
          "output_type": "execute_result",
          "data": {
            "text/html": [
              "<div>\n",
              "<style scoped>\n",
              "    .dataframe tbody tr th:only-of-type {\n",
              "        vertical-align: middle;\n",
              "    }\n",
              "\n",
              "    .dataframe tbody tr th {\n",
              "        vertical-align: top;\n",
              "    }\n",
              "\n",
              "    .dataframe thead th {\n",
              "        text-align: right;\n",
              "    }\n",
              "</style>\n",
              "<table border=\"1\" class=\"dataframe\">\n",
              "  <thead>\n",
              "    <tr style=\"text-align: right;\">\n",
              "      <th></th>\n",
              "      <th>payload</th>\n",
              "      <th>is_malicious</th>\n",
              "      <th>injection_type</th>\n",
              "      <th>length</th>\n",
              "      <th>non-printable</th>\n",
              "      <th>punctuation</th>\n",
              "      <th>min-byte</th>\n",
              "      <th>max-byte</th>\n",
              "      <th>mean-byte</th>\n",
              "      <th>std-byte</th>\n",
              "      <th>distinct-byte</th>\n",
              "      <th>sql-keywords</th>\n",
              "      <th>js-keywords</th>\n",
              "    </tr>\n",
              "    <tr>\n",
              "      <th>index</th>\n",
              "      <th></th>\n",
              "      <th></th>\n",
              "      <th></th>\n",
              "      <th></th>\n",
              "      <th></th>\n",
              "      <th></th>\n",
              "      <th></th>\n",
              "      <th></th>\n",
              "      <th></th>\n",
              "      <th></th>\n",
              "      <th></th>\n",
              "      <th></th>\n",
              "      <th></th>\n",
              "    </tr>\n",
              "  </thead>\n",
              "  <tbody>\n",
              "    <tr>\n",
              "      <th>0</th>\n",
              "      <td>37662577P</td>\n",
              "      <td>0.0</td>\n",
              "      <td>LEGAL</td>\n",
              "      <td>9</td>\n",
              "      <td>0</td>\n",
              "      <td>0</td>\n",
              "      <td>50</td>\n",
              "      <td>80</td>\n",
              "      <td>56.333333</td>\n",
              "      <td>8.537499</td>\n",
              "      <td>6</td>\n",
              "      <td>0</td>\n",
              "      <td>0</td>\n",
              "    </tr>\n",
              "    <tr>\n",
              "      <th>1</th>\n",
              "      <td>shirting</td>\n",
              "      <td>0.0</td>\n",
              "      <td>LEGAL</td>\n",
              "      <td>8</td>\n",
              "      <td>0</td>\n",
              "      <td>0</td>\n",
              "      <td>103</td>\n",
              "      <td>116</td>\n",
              "      <td>109.000000</td>\n",
              "      <td>5.049752</td>\n",
              "      <td>7</td>\n",
              "      <td>0</td>\n",
              "      <td>1</td>\n",
              "    </tr>\n",
              "    <tr>\n",
              "      <th>2</th>\n",
              "      <td>&amp;kw=%27;alert%28%27XSS%27%29;//</td>\n",
              "      <td>1.0</td>\n",
              "      <td>XSS</td>\n",
              "      <td>31</td>\n",
              "      <td>0</td>\n",
              "      <td>11</td>\n",
              "      <td>37</td>\n",
              "      <td>119</td>\n",
              "      <td>65.806452</td>\n",
              "      <td>26.617263</td>\n",
              "      <td>18</td>\n",
              "      <td>0</td>\n",
              "      <td>1</td>\n",
              "    </tr>\n",
              "    <tr>\n",
              "      <th>3</th>\n",
              "      <td>obeying</td>\n",
              "      <td>0.0</td>\n",
              "      <td>LEGAL</td>\n",
              "      <td>7</td>\n",
              "      <td>0</td>\n",
              "      <td>0</td>\n",
              "      <td>98</td>\n",
              "      <td>121</td>\n",
              "      <td>107.000000</td>\n",
              "      <td>7.151423</td>\n",
              "      <td>7</td>\n",
              "      <td>0</td>\n",
              "      <td>1</td>\n",
              "    </tr>\n",
              "    <tr>\n",
              "      <th>4</th>\n",
              "      <td>dictating</td>\n",
              "      <td>0.0</td>\n",
              "      <td>LEGAL</td>\n",
              "      <td>9</td>\n",
              "      <td>0</td>\n",
              "      <td>0</td>\n",
              "      <td>97</td>\n",
              "      <td>116</td>\n",
              "      <td>105.666667</td>\n",
              "      <td>6.599663</td>\n",
              "      <td>7</td>\n",
              "      <td>0</td>\n",
              "      <td>1</td>\n",
              "    </tr>\n",
              "    <tr>\n",
              "      <th>...</th>\n",
              "      <td>...</td>\n",
              "      <td>...</td>\n",
              "      <td>...</td>\n",
              "      <td>...</td>\n",
              "      <td>...</td>\n",
              "      <td>...</td>\n",
              "      <td>...</td>\n",
              "      <td>...</td>\n",
              "      <td>...</td>\n",
              "      <td>...</td>\n",
              "      <td>...</td>\n",
              "      <td>...</td>\n",
              "      <td>...</td>\n",
              "    </tr>\n",
              "    <tr>\n",
              "      <th>110355</th>\n",
              "      <td>needlessness</td>\n",
              "      <td>0.0</td>\n",
              "      <td>LEGAL</td>\n",
              "      <td>12</td>\n",
              "      <td>0</td>\n",
              "      <td>0</td>\n",
              "      <td>100</td>\n",
              "      <td>115</td>\n",
              "      <td>107.666667</td>\n",
              "      <td>6.209312</td>\n",
              "      <td>5</td>\n",
              "      <td>1</td>\n",
              "      <td>0</td>\n",
              "    </tr>\n",
              "    <tr>\n",
              "      <th>110356</th>\n",
              "      <td>Mary-Jo</td>\n",
              "      <td>0.0</td>\n",
              "      <td>LEGAL</td>\n",
              "      <td>7</td>\n",
              "      <td>0</td>\n",
              "      <td>1</td>\n",
              "      <td>45</td>\n",
              "      <td>121</td>\n",
              "      <td>91.285714</td>\n",
              "      <td>25.257046</td>\n",
              "      <td>7</td>\n",
              "      <td>0</td>\n",
              "      <td>0</td>\n",
              "    </tr>\n",
              "    <tr>\n",
              "      <th>110357</th>\n",
              "      <td>marshaled</td>\n",
              "      <td>0.0</td>\n",
              "      <td>LEGAL</td>\n",
              "      <td>9</td>\n",
              "      <td>0</td>\n",
              "      <td>0</td>\n",
              "      <td>97</td>\n",
              "      <td>115</td>\n",
              "      <td>105.000000</td>\n",
              "      <td>6.463573</td>\n",
              "      <td>8</td>\n",
              "      <td>0</td>\n",
              "      <td>0</td>\n",
              "    </tr>\n",
              "    <tr>\n",
              "      <th>110358</th>\n",
              "      <td>9553847952570755</td>\n",
              "      <td>0.0</td>\n",
              "      <td>LEGAL</td>\n",
              "      <td>16</td>\n",
              "      <td>0</td>\n",
              "      <td>0</td>\n",
              "      <td>48</td>\n",
              "      <td>57</td>\n",
              "      <td>53.375000</td>\n",
              "      <td>2.368412</td>\n",
              "      <td>8</td>\n",
              "      <td>0</td>\n",
              "      <td>0</td>\n",
              "    </tr>\n",
              "    <tr>\n",
              "      <th>110359</th>\n",
              "      <td>\"&gt;&lt;body language=vbs onload=window.location='d...</td>\n",
              "      <td>1.0</td>\n",
              "      <td>XSS</td>\n",
              "      <td>109</td>\n",
              "      <td>0</td>\n",
              "      <td>16</td>\n",
              "      <td>32</td>\n",
              "      <td>122</td>\n",
              "      <td>90.990826</td>\n",
              "      <td>24.773653</td>\n",
              "      <td>50</td>\n",
              "      <td>3</td>\n",
              "      <td>5</td>\n",
              "    </tr>\n",
              "  </tbody>\n",
              "</table>\n",
              "<p>110357 rows × 13 columns</p>\n",
              "</div>"
            ],
            "text/plain": [
              "                                                  payload  ...  js-keywords\n",
              "index                                                      ...             \n",
              "0                                               37662577P  ...            0\n",
              "1                                                shirting  ...            1\n",
              "2                         &kw=%27;alert%28%27XSS%27%29;//  ...            1\n",
              "3                                                 obeying  ...            1\n",
              "4                                               dictating  ...            1\n",
              "...                                                   ...  ...          ...\n",
              "110355                                       needlessness  ...            0\n",
              "110356                                            Mary-Jo  ...            0\n",
              "110357                                          marshaled  ...            0\n",
              "110358                                   9553847952570755  ...            0\n",
              "110359  \"><body language=vbs onload=window.location='d...  ...            5\n",
              "\n",
              "[110357 rows x 13 columns]"
            ]
          },
          "metadata": {
            "tags": []
          },
          "execution_count": 2
        }
      ]
    },
    {
      "cell_type": "markdown",
      "metadata": {
        "id": "W86va16UlO5e",
        "colab_type": "text"
      },
      "source": [
        "Selecting dependent and independent variables"
      ]
    },
    {
      "cell_type": "code",
      "metadata": {
        "id": "0-fNcTsBi-FU",
        "colab_type": "code",
        "colab": {
          "base_uri": "https://localhost:8080/",
          "height": 436
        },
        "outputId": "14d7f877-81ba-4d62-a8d9-ad65e9d91fc1"
      },
      "source": [
        "Y = data['is_malicious']\n",
        "\"\"\"independent_variables = data.columns\n",
        "independent_variables = independent_variables.delete(1)\n",
        "independent_variables\"\"\"\n",
        "X = data.iloc[:,3:]\n",
        "X"
      ],
      "execution_count": null,
      "outputs": [
        {
          "output_type": "execute_result",
          "data": {
            "text/html": [
              "<div>\n",
              "<style scoped>\n",
              "    .dataframe tbody tr th:only-of-type {\n",
              "        vertical-align: middle;\n",
              "    }\n",
              "\n",
              "    .dataframe tbody tr th {\n",
              "        vertical-align: top;\n",
              "    }\n",
              "\n",
              "    .dataframe thead th {\n",
              "        text-align: right;\n",
              "    }\n",
              "</style>\n",
              "<table border=\"1\" class=\"dataframe\">\n",
              "  <thead>\n",
              "    <tr style=\"text-align: right;\">\n",
              "      <th></th>\n",
              "      <th>length</th>\n",
              "      <th>non-printable</th>\n",
              "      <th>punctuation</th>\n",
              "      <th>min-byte</th>\n",
              "      <th>max-byte</th>\n",
              "      <th>mean-byte</th>\n",
              "      <th>std-byte</th>\n",
              "      <th>distinct-byte</th>\n",
              "      <th>sql-keywords</th>\n",
              "      <th>js-keywords</th>\n",
              "    </tr>\n",
              "    <tr>\n",
              "      <th>index</th>\n",
              "      <th></th>\n",
              "      <th></th>\n",
              "      <th></th>\n",
              "      <th></th>\n",
              "      <th></th>\n",
              "      <th></th>\n",
              "      <th></th>\n",
              "      <th></th>\n",
              "      <th></th>\n",
              "      <th></th>\n",
              "    </tr>\n",
              "  </thead>\n",
              "  <tbody>\n",
              "    <tr>\n",
              "      <th>0</th>\n",
              "      <td>9</td>\n",
              "      <td>0</td>\n",
              "      <td>0</td>\n",
              "      <td>50</td>\n",
              "      <td>80</td>\n",
              "      <td>56.333333</td>\n",
              "      <td>8.537499</td>\n",
              "      <td>6</td>\n",
              "      <td>0</td>\n",
              "      <td>0</td>\n",
              "    </tr>\n",
              "    <tr>\n",
              "      <th>1</th>\n",
              "      <td>8</td>\n",
              "      <td>0</td>\n",
              "      <td>0</td>\n",
              "      <td>103</td>\n",
              "      <td>116</td>\n",
              "      <td>109.000000</td>\n",
              "      <td>5.049752</td>\n",
              "      <td>7</td>\n",
              "      <td>0</td>\n",
              "      <td>1</td>\n",
              "    </tr>\n",
              "    <tr>\n",
              "      <th>2</th>\n",
              "      <td>31</td>\n",
              "      <td>0</td>\n",
              "      <td>11</td>\n",
              "      <td>37</td>\n",
              "      <td>119</td>\n",
              "      <td>65.806452</td>\n",
              "      <td>26.617263</td>\n",
              "      <td>18</td>\n",
              "      <td>0</td>\n",
              "      <td>1</td>\n",
              "    </tr>\n",
              "    <tr>\n",
              "      <th>3</th>\n",
              "      <td>7</td>\n",
              "      <td>0</td>\n",
              "      <td>0</td>\n",
              "      <td>98</td>\n",
              "      <td>121</td>\n",
              "      <td>107.000000</td>\n",
              "      <td>7.151423</td>\n",
              "      <td>7</td>\n",
              "      <td>0</td>\n",
              "      <td>1</td>\n",
              "    </tr>\n",
              "    <tr>\n",
              "      <th>4</th>\n",
              "      <td>9</td>\n",
              "      <td>0</td>\n",
              "      <td>0</td>\n",
              "      <td>97</td>\n",
              "      <td>116</td>\n",
              "      <td>105.666667</td>\n",
              "      <td>6.599663</td>\n",
              "      <td>7</td>\n",
              "      <td>0</td>\n",
              "      <td>1</td>\n",
              "    </tr>\n",
              "    <tr>\n",
              "      <th>...</th>\n",
              "      <td>...</td>\n",
              "      <td>...</td>\n",
              "      <td>...</td>\n",
              "      <td>...</td>\n",
              "      <td>...</td>\n",
              "      <td>...</td>\n",
              "      <td>...</td>\n",
              "      <td>...</td>\n",
              "      <td>...</td>\n",
              "      <td>...</td>\n",
              "    </tr>\n",
              "    <tr>\n",
              "      <th>110355</th>\n",
              "      <td>12</td>\n",
              "      <td>0</td>\n",
              "      <td>0</td>\n",
              "      <td>100</td>\n",
              "      <td>115</td>\n",
              "      <td>107.666667</td>\n",
              "      <td>6.209312</td>\n",
              "      <td>5</td>\n",
              "      <td>1</td>\n",
              "      <td>0</td>\n",
              "    </tr>\n",
              "    <tr>\n",
              "      <th>110356</th>\n",
              "      <td>7</td>\n",
              "      <td>0</td>\n",
              "      <td>1</td>\n",
              "      <td>45</td>\n",
              "      <td>121</td>\n",
              "      <td>91.285714</td>\n",
              "      <td>25.257046</td>\n",
              "      <td>7</td>\n",
              "      <td>0</td>\n",
              "      <td>0</td>\n",
              "    </tr>\n",
              "    <tr>\n",
              "      <th>110357</th>\n",
              "      <td>9</td>\n",
              "      <td>0</td>\n",
              "      <td>0</td>\n",
              "      <td>97</td>\n",
              "      <td>115</td>\n",
              "      <td>105.000000</td>\n",
              "      <td>6.463573</td>\n",
              "      <td>8</td>\n",
              "      <td>0</td>\n",
              "      <td>0</td>\n",
              "    </tr>\n",
              "    <tr>\n",
              "      <th>110358</th>\n",
              "      <td>16</td>\n",
              "      <td>0</td>\n",
              "      <td>0</td>\n",
              "      <td>48</td>\n",
              "      <td>57</td>\n",
              "      <td>53.375000</td>\n",
              "      <td>2.368412</td>\n",
              "      <td>8</td>\n",
              "      <td>0</td>\n",
              "      <td>0</td>\n",
              "    </tr>\n",
              "    <tr>\n",
              "      <th>110359</th>\n",
              "      <td>109</td>\n",
              "      <td>0</td>\n",
              "      <td>16</td>\n",
              "      <td>32</td>\n",
              "      <td>122</td>\n",
              "      <td>90.990826</td>\n",
              "      <td>24.773653</td>\n",
              "      <td>50</td>\n",
              "      <td>3</td>\n",
              "      <td>5</td>\n",
              "    </tr>\n",
              "  </tbody>\n",
              "</table>\n",
              "<p>110357 rows × 10 columns</p>\n",
              "</div>"
            ],
            "text/plain": [
              "        length  non-printable  ...  sql-keywords  js-keywords\n",
              "index                          ...                           \n",
              "0            9              0  ...             0            0\n",
              "1            8              0  ...             0            1\n",
              "2           31              0  ...             0            1\n",
              "3            7              0  ...             0            1\n",
              "4            9              0  ...             0            1\n",
              "...        ...            ...  ...           ...          ...\n",
              "110355      12              0  ...             1            0\n",
              "110356       7              0  ...             0            0\n",
              "110357       9              0  ...             0            0\n",
              "110358      16              0  ...             0            0\n",
              "110359     109              0  ...             3            5\n",
              "\n",
              "[110357 rows x 10 columns]"
            ]
          },
          "metadata": {
            "tags": []
          },
          "execution_count": 6
        }
      ]
    },
    {
      "cell_type": "markdown",
      "metadata": {
        "id": "FLMw6yp8lL0P",
        "colab_type": "text"
      },
      "source": [
        "# Modeling data with Xgboost Classifier"
      ]
    },
    {
      "cell_type": "code",
      "metadata": {
        "id": "9i7IaUaCkbnW",
        "colab_type": "code",
        "colab": {
          "base_uri": "https://localhost:8080/",
          "height": 141
        },
        "outputId": "2618fad6-c669-4d8c-f4f5-4535736e3707"
      },
      "source": [
        "import xgboost as xgb\n",
        "#?xgb.XGBClassifier()\n",
        "xgb_classifer = xgb.XGBClassifier()\n",
        "xgb_classifer.fit(X,Y)"
      ],
      "execution_count": null,
      "outputs": [
        {
          "output_type": "execute_result",
          "data": {
            "text/plain": [
              "XGBClassifier(base_score=0.5, booster='gbtree', colsample_bylevel=1,\n",
              "              colsample_bynode=1, colsample_bytree=1, gamma=0,\n",
              "              learning_rate=0.1, max_delta_step=0, max_depth=3,\n",
              "              min_child_weight=1, missing=None, n_estimators=100, n_jobs=1,\n",
              "              nthread=None, objective='binary:logistic', random_state=0,\n",
              "              reg_alpha=0, reg_lambda=1, scale_pos_weight=1, seed=None,\n",
              "              silent=None, subsample=1, verbosity=1)"
            ]
          },
          "metadata": {
            "tags": []
          },
          "execution_count": 8
        }
      ]
    },
    {
      "cell_type": "code",
      "metadata": {
        "id": "xr7ndXp1mwgd",
        "colab_type": "code",
        "colab": {
          "base_uri": "https://localhost:8080/",
          "height": 176
        },
        "outputId": "f531607b-ad15-42ee-a0f1-7ef3bd08f541"
      },
      "source": [
        "%time xgb_classifer.fit(X,Y)"
      ],
      "execution_count": null,
      "outputs": [
        {
          "output_type": "stream",
          "text": [
            "CPU times: user 5.7 s, sys: 17.8 ms, total: 5.72 s\n",
            "Wall time: 5.73 s\n"
          ],
          "name": "stdout"
        },
        {
          "output_type": "execute_result",
          "data": {
            "text/plain": [
              "XGBClassifier(base_score=0.5, booster='gbtree', colsample_bylevel=1,\n",
              "              colsample_bynode=1, colsample_bytree=1, gamma=0,\n",
              "              learning_rate=0.1, max_delta_step=0, max_depth=3,\n",
              "              min_child_weight=1, missing=None, n_estimators=100, n_jobs=1,\n",
              "              nthread=None, objective='binary:logistic', random_state=0,\n",
              "              reg_alpha=0, reg_lambda=1, scale_pos_weight=1, seed=None,\n",
              "              silent=None, subsample=1, verbosity=1)"
            ]
          },
          "metadata": {
            "tags": []
          },
          "execution_count": 12
        }
      ]
    },
    {
      "cell_type": "code",
      "metadata": {
        "id": "vmRNTMnlnkv-",
        "colab_type": "code",
        "colab": {}
      },
      "source": [
        "data['predicted_is_malicious'] = xgb_classifer.predict(X)"
      ],
      "execution_count": null,
      "outputs": []
    },
    {
      "cell_type": "code",
      "metadata": {
        "id": "-aV656LApD9V",
        "colab_type": "code",
        "colab": {
          "base_uri": "https://localhost:8080/",
          "height": 1000
        },
        "outputId": "c6446a57-9cee-4b6c-bf47-466cd2024c8c"
      },
      "source": [
        "data.head(30)"
      ],
      "execution_count": null,
      "outputs": [
        {
          "output_type": "execute_result",
          "data": {
            "text/html": [
              "<div>\n",
              "<style scoped>\n",
              "    .dataframe tbody tr th:only-of-type {\n",
              "        vertical-align: middle;\n",
              "    }\n",
              "\n",
              "    .dataframe tbody tr th {\n",
              "        vertical-align: top;\n",
              "    }\n",
              "\n",
              "    .dataframe thead th {\n",
              "        text-align: right;\n",
              "    }\n",
              "</style>\n",
              "<table border=\"1\" class=\"dataframe\">\n",
              "  <thead>\n",
              "    <tr style=\"text-align: right;\">\n",
              "      <th></th>\n",
              "      <th>payload</th>\n",
              "      <th>is_malicious</th>\n",
              "      <th>injection_type</th>\n",
              "      <th>length</th>\n",
              "      <th>non-printable</th>\n",
              "      <th>punctuation</th>\n",
              "      <th>min-byte</th>\n",
              "      <th>max-byte</th>\n",
              "      <th>mean-byte</th>\n",
              "      <th>std-byte</th>\n",
              "      <th>distinct-byte</th>\n",
              "      <th>sql-keywords</th>\n",
              "      <th>js-keywords</th>\n",
              "      <th>predicted_is_malicious</th>\n",
              "    </tr>\n",
              "    <tr>\n",
              "      <th>index</th>\n",
              "      <th></th>\n",
              "      <th></th>\n",
              "      <th></th>\n",
              "      <th></th>\n",
              "      <th></th>\n",
              "      <th></th>\n",
              "      <th></th>\n",
              "      <th></th>\n",
              "      <th></th>\n",
              "      <th></th>\n",
              "      <th></th>\n",
              "      <th></th>\n",
              "      <th></th>\n",
              "      <th></th>\n",
              "    </tr>\n",
              "  </thead>\n",
              "  <tbody>\n",
              "    <tr>\n",
              "      <th>0</th>\n",
              "      <td>37662577P</td>\n",
              "      <td>0.0</td>\n",
              "      <td>LEGAL</td>\n",
              "      <td>9</td>\n",
              "      <td>0</td>\n",
              "      <td>0</td>\n",
              "      <td>50</td>\n",
              "      <td>80</td>\n",
              "      <td>56.333333</td>\n",
              "      <td>8.537499</td>\n",
              "      <td>6</td>\n",
              "      <td>0</td>\n",
              "      <td>0</td>\n",
              "      <td>0.0</td>\n",
              "    </tr>\n",
              "    <tr>\n",
              "      <th>1</th>\n",
              "      <td>shirting</td>\n",
              "      <td>0.0</td>\n",
              "      <td>LEGAL</td>\n",
              "      <td>8</td>\n",
              "      <td>0</td>\n",
              "      <td>0</td>\n",
              "      <td>103</td>\n",
              "      <td>116</td>\n",
              "      <td>109.000000</td>\n",
              "      <td>5.049752</td>\n",
              "      <td>7</td>\n",
              "      <td>0</td>\n",
              "      <td>1</td>\n",
              "      <td>0.0</td>\n",
              "    </tr>\n",
              "    <tr>\n",
              "      <th>2</th>\n",
              "      <td>&amp;kw=%27;alert%28%27XSS%27%29;//</td>\n",
              "      <td>1.0</td>\n",
              "      <td>XSS</td>\n",
              "      <td>31</td>\n",
              "      <td>0</td>\n",
              "      <td>11</td>\n",
              "      <td>37</td>\n",
              "      <td>119</td>\n",
              "      <td>65.806452</td>\n",
              "      <td>26.617263</td>\n",
              "      <td>18</td>\n",
              "      <td>0</td>\n",
              "      <td>1</td>\n",
              "      <td>1.0</td>\n",
              "    </tr>\n",
              "    <tr>\n",
              "      <th>3</th>\n",
              "      <td>obeying</td>\n",
              "      <td>0.0</td>\n",
              "      <td>LEGAL</td>\n",
              "      <td>7</td>\n",
              "      <td>0</td>\n",
              "      <td>0</td>\n",
              "      <td>98</td>\n",
              "      <td>121</td>\n",
              "      <td>107.000000</td>\n",
              "      <td>7.151423</td>\n",
              "      <td>7</td>\n",
              "      <td>0</td>\n",
              "      <td>1</td>\n",
              "      <td>0.0</td>\n",
              "    </tr>\n",
              "    <tr>\n",
              "      <th>4</th>\n",
              "      <td>dictating</td>\n",
              "      <td>0.0</td>\n",
              "      <td>LEGAL</td>\n",
              "      <td>9</td>\n",
              "      <td>0</td>\n",
              "      <td>0</td>\n",
              "      <td>97</td>\n",
              "      <td>116</td>\n",
              "      <td>105.666667</td>\n",
              "      <td>6.599663</td>\n",
              "      <td>7</td>\n",
              "      <td>0</td>\n",
              "      <td>1</td>\n",
              "      <td>0.0</td>\n",
              "    </tr>\n",
              "    <tr>\n",
              "      <th>5</th>\n",
              "      <td>lafleur</td>\n",
              "      <td>0.0</td>\n",
              "      <td>LEGAL</td>\n",
              "      <td>7</td>\n",
              "      <td>0</td>\n",
              "      <td>0</td>\n",
              "      <td>97</td>\n",
              "      <td>117</td>\n",
              "      <td>106.714286</td>\n",
              "      <td>6.670067</td>\n",
              "      <td>6</td>\n",
              "      <td>0</td>\n",
              "      <td>0</td>\n",
              "      <td>0.0</td>\n",
              "    </tr>\n",
              "    <tr>\n",
              "      <th>6</th>\n",
              "      <td>capturers</td>\n",
              "      <td>0.0</td>\n",
              "      <td>LEGAL</td>\n",
              "      <td>9</td>\n",
              "      <td>0</td>\n",
              "      <td>0</td>\n",
              "      <td>97</td>\n",
              "      <td>117</td>\n",
              "      <td>109.444444</td>\n",
              "      <td>7.558823</td>\n",
              "      <td>8</td>\n",
              "      <td>0</td>\n",
              "      <td>0</td>\n",
              "      <td>0.0</td>\n",
              "    </tr>\n",
              "    <tr>\n",
              "      <th>7</th>\n",
              "      <td>8nca58z48</td>\n",
              "      <td>0.0</td>\n",
              "      <td>LEGAL</td>\n",
              "      <td>9</td>\n",
              "      <td>0</td>\n",
              "      <td>0</td>\n",
              "      <td>52</td>\n",
              "      <td>122</td>\n",
              "      <td>77.888889</td>\n",
              "      <td>26.904954</td>\n",
              "      <td>7</td>\n",
              "      <td>0</td>\n",
              "      <td>0</td>\n",
              "      <td>0.0</td>\n",
              "    </tr>\n",
              "    <tr>\n",
              "      <th>8</th>\n",
              "      <td>autocratic</td>\n",
              "      <td>0.0</td>\n",
              "      <td>LEGAL</td>\n",
              "      <td>10</td>\n",
              "      <td>0</td>\n",
              "      <td>0</td>\n",
              "      <td>97</td>\n",
              "      <td>117</td>\n",
              "      <td>107.100000</td>\n",
              "      <td>8.117266</td>\n",
              "      <td>7</td>\n",
              "      <td>0</td>\n",
              "      <td>0</td>\n",
              "      <td>0.0</td>\n",
              "    </tr>\n",
              "    <tr>\n",
              "      <th>9</th>\n",
              "      <td>grocery+warehouses</td>\n",
              "      <td>0.0</td>\n",
              "      <td>LEGAL</td>\n",
              "      <td>18</td>\n",
              "      <td>0</td>\n",
              "      <td>1</td>\n",
              "      <td>43</td>\n",
              "      <td>121</td>\n",
              "      <td>105.555556</td>\n",
              "      <td>16.836542</td>\n",
              "      <td>12</td>\n",
              "      <td>0</td>\n",
              "      <td>0</td>\n",
              "      <td>0.0</td>\n",
              "    </tr>\n",
              "    <tr>\n",
              "      <th>10</th>\n",
              "      <td>Danciel</td>\n",
              "      <td>0.0</td>\n",
              "      <td>LEGAL</td>\n",
              "      <td>7</td>\n",
              "      <td>0</td>\n",
              "      <td>0</td>\n",
              "      <td>68</td>\n",
              "      <td>110</td>\n",
              "      <td>98.285714</td>\n",
              "      <td>13.111764</td>\n",
              "      <td>7</td>\n",
              "      <td>0</td>\n",
              "      <td>0</td>\n",
              "      <td>0.0</td>\n",
              "    </tr>\n",
              "    <tr>\n",
              "      <th>11</th>\n",
              "      <td>Koressa</td>\n",
              "      <td>0.0</td>\n",
              "      <td>LEGAL</td>\n",
              "      <td>7</td>\n",
              "      <td>0</td>\n",
              "      <td>0</td>\n",
              "      <td>75</td>\n",
              "      <td>115</td>\n",
              "      <td>104.000000</td>\n",
              "      <td>13.575187</td>\n",
              "      <td>6</td>\n",
              "      <td>0</td>\n",
              "      <td>0</td>\n",
              "      <td>0.0</td>\n",
              "    </tr>\n",
              "    <tr>\n",
              "      <th>12</th>\n",
              "      <td>bowie0%40showeb-handling.bi</td>\n",
              "      <td>0.0</td>\n",
              "      <td>LEGAL</td>\n",
              "      <td>27</td>\n",
              "      <td>0</td>\n",
              "      <td>3</td>\n",
              "      <td>37</td>\n",
              "      <td>119</td>\n",
              "      <td>92.518519</td>\n",
              "      <td>25.605801</td>\n",
              "      <td>17</td>\n",
              "      <td>1</td>\n",
              "      <td>1</td>\n",
              "      <td>0.0</td>\n",
              "    </tr>\n",
              "    <tr>\n",
              "      <th>13</th>\n",
              "      <td>Auque+Cote</td>\n",
              "      <td>0.0</td>\n",
              "      <td>LEGAL</td>\n",
              "      <td>10</td>\n",
              "      <td>0</td>\n",
              "      <td>1</td>\n",
              "      <td>43</td>\n",
              "      <td>117</td>\n",
              "      <td>95.100000</td>\n",
              "      <td>25.394684</td>\n",
              "      <td>8</td>\n",
              "      <td>0</td>\n",
              "      <td>0</td>\n",
              "      <td>0.0</td>\n",
              "    </tr>\n",
              "    <tr>\n",
              "      <th>14</th>\n",
              "      <td>broadest</td>\n",
              "      <td>0.0</td>\n",
              "      <td>LEGAL</td>\n",
              "      <td>8</td>\n",
              "      <td>0</td>\n",
              "      <td>0</td>\n",
              "      <td>97</td>\n",
              "      <td>116</td>\n",
              "      <td>106.500000</td>\n",
              "      <td>7.697402</td>\n",
              "      <td>8</td>\n",
              "      <td>0</td>\n",
              "      <td>0</td>\n",
              "      <td>0.0</td>\n",
              "    </tr>\n",
              "    <tr>\n",
              "      <th>15</th>\n",
              "      <td>Xaubet+Sorolla</td>\n",
              "      <td>0.0</td>\n",
              "      <td>LEGAL</td>\n",
              "      <td>14</td>\n",
              "      <td>0</td>\n",
              "      <td>1</td>\n",
              "      <td>43</td>\n",
              "      <td>117</td>\n",
              "      <td>99.428571</td>\n",
              "      <td>18.538432</td>\n",
              "      <td>11</td>\n",
              "      <td>0</td>\n",
              "      <td>0</td>\n",
              "      <td>0.0</td>\n",
              "    </tr>\n",
              "    <tr>\n",
              "      <th>16</th>\n",
              "      <td>vocational</td>\n",
              "      <td>0.0</td>\n",
              "      <td>LEGAL</td>\n",
              "      <td>10</td>\n",
              "      <td>0</td>\n",
              "      <td>0</td>\n",
              "      <td>97</td>\n",
              "      <td>118</td>\n",
              "      <td>107.200000</td>\n",
              "      <td>7.152622</td>\n",
              "      <td>8</td>\n",
              "      <td>0</td>\n",
              "      <td>0</td>\n",
              "      <td>0.0</td>\n",
              "    </tr>\n",
              "    <tr>\n",
              "      <th>17</th>\n",
              "      <td>Yemen</td>\n",
              "      <td>0.0</td>\n",
              "      <td>LEGAL</td>\n",
              "      <td>5</td>\n",
              "      <td>0</td>\n",
              "      <td>0</td>\n",
              "      <td>89</td>\n",
              "      <td>110</td>\n",
              "      <td>102.000000</td>\n",
              "      <td>7.536577</td>\n",
              "      <td>4</td>\n",
              "      <td>0</td>\n",
              "      <td>0</td>\n",
              "      <td>0.0</td>\n",
              "    </tr>\n",
              "    <tr>\n",
              "      <th>18</th>\n",
              "      <td>22584</td>\n",
              "      <td>0.0</td>\n",
              "      <td>LEGAL</td>\n",
              "      <td>5</td>\n",
              "      <td>0</td>\n",
              "      <td>0</td>\n",
              "      <td>50</td>\n",
              "      <td>56</td>\n",
              "      <td>52.200000</td>\n",
              "      <td>2.227106</td>\n",
              "      <td>4</td>\n",
              "      <td>0</td>\n",
              "      <td>0</td>\n",
              "      <td>0.0</td>\n",
              "    </tr>\n",
              "    <tr>\n",
              "      <th>19</th>\n",
              "      <td>&lt;BR SIZE=\"&amp;{alert(1)}\"&gt;</td>\n",
              "      <td>1.0</td>\n",
              "      <td>XSS</td>\n",
              "      <td>23</td>\n",
              "      <td>0</td>\n",
              "      <td>10</td>\n",
              "      <td>32</td>\n",
              "      <td>125</td>\n",
              "      <td>73.826087</td>\n",
              "      <td>30.151288</td>\n",
              "      <td>22</td>\n",
              "      <td>0</td>\n",
              "      <td>1</td>\n",
              "      <td>1.0</td>\n",
              "    </tr>\n",
              "    <tr>\n",
              "      <th>20</th>\n",
              "      <td>impaction</td>\n",
              "      <td>0.0</td>\n",
              "      <td>LEGAL</td>\n",
              "      <td>9</td>\n",
              "      <td>0</td>\n",
              "      <td>0</td>\n",
              "      <td>97</td>\n",
              "      <td>116</td>\n",
              "      <td>107.111111</td>\n",
              "      <td>5.839415</td>\n",
              "      <td>8</td>\n",
              "      <td>1</td>\n",
              "      <td>0</td>\n",
              "      <td>0.0</td>\n",
              "    </tr>\n",
              "    <tr>\n",
              "      <th>21</th>\n",
              "      <td>&lt;button onclick=\"window.open('http://xss.cx/::...</td>\n",
              "      <td>1.0</td>\n",
              "      <td>XSS</td>\n",
              "      <td>67</td>\n",
              "      <td>0</td>\n",
              "      <td>18</td>\n",
              "      <td>32</td>\n",
              "      <td>120</td>\n",
              "      <td>84.238806</td>\n",
              "      <td>30.046278</td>\n",
              "      <td>38</td>\n",
              "      <td>1</td>\n",
              "      <td>5</td>\n",
              "      <td>1.0</td>\n",
              "    </tr>\n",
              "    <tr>\n",
              "      <th>22</th>\n",
              "      <td>&lt;IFRAME SRC=\"javascript:alert(\\'XSS\\');\"&gt;&lt;/IFR...</td>\n",
              "      <td>1.0</td>\n",
              "      <td>XSS</td>\n",
              "      <td>50</td>\n",
              "      <td>0</td>\n",
              "      <td>16</td>\n",
              "      <td>32</td>\n",
              "      <td>118</td>\n",
              "      <td>77.700000</td>\n",
              "      <td>24.696761</td>\n",
              "      <td>32</td>\n",
              "      <td>0</td>\n",
              "      <td>3</td>\n",
              "      <td>1.0</td>\n",
              "    </tr>\n",
              "    <tr>\n",
              "      <th>23</th>\n",
              "      <td>03830</td>\n",
              "      <td>0.0</td>\n",
              "      <td>LEGAL</td>\n",
              "      <td>5</td>\n",
              "      <td>0</td>\n",
              "      <td>0</td>\n",
              "      <td>48</td>\n",
              "      <td>56</td>\n",
              "      <td>50.800000</td>\n",
              "      <td>2.925748</td>\n",
              "      <td>3</td>\n",
              "      <td>0</td>\n",
              "      <td>0</td>\n",
              "      <td>0.0</td>\n",
              "    </tr>\n",
              "    <tr>\n",
              "      <th>24</th>\n",
              "      <td>pineapple</td>\n",
              "      <td>0.0</td>\n",
              "      <td>LEGAL</td>\n",
              "      <td>9</td>\n",
              "      <td>0</td>\n",
              "      <td>0</td>\n",
              "      <td>97</td>\n",
              "      <td>112</td>\n",
              "      <td>106.444444</td>\n",
              "      <td>5.356431</td>\n",
              "      <td>6</td>\n",
              "      <td>0</td>\n",
              "      <td>1</td>\n",
              "      <td>0.0</td>\n",
              "    </tr>\n",
              "    <tr>\n",
              "      <th>25</th>\n",
              "      <td>La+Lora+11%2C+</td>\n",
              "      <td>0.0</td>\n",
              "      <td>LEGAL</td>\n",
              "      <td>14</td>\n",
              "      <td>0</td>\n",
              "      <td>4</td>\n",
              "      <td>37</td>\n",
              "      <td>114</td>\n",
              "      <td>68.000000</td>\n",
              "      <td>26.265132</td>\n",
              "      <td>9</td>\n",
              "      <td>0</td>\n",
              "      <td>0</td>\n",
              "      <td>0.0</td>\n",
              "    </tr>\n",
              "    <tr>\n",
              "      <th>26</th>\n",
              "      <td>Pittston</td>\n",
              "      <td>0.0</td>\n",
              "      <td>LEGAL</td>\n",
              "      <td>8</td>\n",
              "      <td>0</td>\n",
              "      <td>0</td>\n",
              "      <td>80</td>\n",
              "      <td>116</td>\n",
              "      <td>108.625000</td>\n",
              "      <td>11.422976</td>\n",
              "      <td>6</td>\n",
              "      <td>0</td>\n",
              "      <td>0</td>\n",
              "      <td>0.0</td>\n",
              "    </tr>\n",
              "    <tr>\n",
              "      <th>27</th>\n",
              "      <td>Aeriela</td>\n",
              "      <td>0.0</td>\n",
              "      <td>LEGAL</td>\n",
              "      <td>7</td>\n",
              "      <td>0</td>\n",
              "      <td>0</td>\n",
              "      <td>65</td>\n",
              "      <td>114</td>\n",
              "      <td>98.714286</td>\n",
              "      <td>14.684436</td>\n",
              "      <td>6</td>\n",
              "      <td>0</td>\n",
              "      <td>0</td>\n",
              "      <td>0.0</td>\n",
              "    </tr>\n",
              "    <tr>\n",
              "      <th>28</th>\n",
              "      <td>Brewster</td>\n",
              "      <td>0.0</td>\n",
              "      <td>LEGAL</td>\n",
              "      <td>8</td>\n",
              "      <td>0</td>\n",
              "      <td>0</td>\n",
              "      <td>66</td>\n",
              "      <td>119</td>\n",
              "      <td>105.750000</td>\n",
              "      <td>16.307590</td>\n",
              "      <td>6</td>\n",
              "      <td>0</td>\n",
              "      <td>0</td>\n",
              "      <td>0.0</td>\n",
              "    </tr>\n",
              "    <tr>\n",
              "      <th>29</th>\n",
              "      <td>doting</td>\n",
              "      <td>0.0</td>\n",
              "      <td>LEGAL</td>\n",
              "      <td>6</td>\n",
              "      <td>0</td>\n",
              "      <td>0</td>\n",
              "      <td>100</td>\n",
              "      <td>116</td>\n",
              "      <td>107.500000</td>\n",
              "      <td>5.377422</td>\n",
              "      <td>6</td>\n",
              "      <td>0</td>\n",
              "      <td>2</td>\n",
              "      <td>0.0</td>\n",
              "    </tr>\n",
              "  </tbody>\n",
              "</table>\n",
              "</div>"
            ],
            "text/plain": [
              "                                                 payload  ...  predicted_is_malicious\n",
              "index                                                     ...                        \n",
              "0                                              37662577P  ...                     0.0\n",
              "1                                               shirting  ...                     0.0\n",
              "2                        &kw=%27;alert%28%27XSS%27%29;//  ...                     1.0\n",
              "3                                                obeying  ...                     0.0\n",
              "4                                              dictating  ...                     0.0\n",
              "5                                                lafleur  ...                     0.0\n",
              "6                                              capturers  ...                     0.0\n",
              "7                                              8nca58z48  ...                     0.0\n",
              "8                                             autocratic  ...                     0.0\n",
              "9                                     grocery+warehouses  ...                     0.0\n",
              "10                                               Danciel  ...                     0.0\n",
              "11                                               Koressa  ...                     0.0\n",
              "12                           bowie0%40showeb-handling.bi  ...                     0.0\n",
              "13                                            Auque+Cote  ...                     0.0\n",
              "14                                              broadest  ...                     0.0\n",
              "15                                        Xaubet+Sorolla  ...                     0.0\n",
              "16                                            vocational  ...                     0.0\n",
              "17                                                 Yemen  ...                     0.0\n",
              "18                                                 22584  ...                     0.0\n",
              "19                               <BR SIZE=\"&{alert(1)}\">  ...                     1.0\n",
              "20                                             impaction  ...                     0.0\n",
              "21     <button onclick=\"window.open('http://xss.cx/::...  ...                     1.0\n",
              "22     <IFRAME SRC=\"javascript:alert(\\'XSS\\');\"></IFR...  ...                     1.0\n",
              "23                                                 03830  ...                     0.0\n",
              "24                                             pineapple  ...                     0.0\n",
              "25                                        La+Lora+11%2C+  ...                     0.0\n",
              "26                                              Pittston  ...                     0.0\n",
              "27                                               Aeriela  ...                     0.0\n",
              "28                                              Brewster  ...                     0.0\n",
              "29                                                doting  ...                     0.0\n",
              "\n",
              "[30 rows x 14 columns]"
            ]
          },
          "metadata": {
            "tags": []
          },
          "execution_count": 19
        }
      ]
    },
    {
      "cell_type": "code",
      "metadata": {
        "id": "D36IJsfqqwXW",
        "colab_type": "code",
        "colab": {
          "base_uri": "https://localhost:8080/",
          "height": 436
        },
        "outputId": "104cc6ac-3165-42cc-e0be-484fe5d71c76"
      },
      "source": [
        "data[[\"is_malicious\",\"predicted_is_malicious\"]]"
      ],
      "execution_count": null,
      "outputs": [
        {
          "output_type": "execute_result",
          "data": {
            "text/html": [
              "<div>\n",
              "<style scoped>\n",
              "    .dataframe tbody tr th:only-of-type {\n",
              "        vertical-align: middle;\n",
              "    }\n",
              "\n",
              "    .dataframe tbody tr th {\n",
              "        vertical-align: top;\n",
              "    }\n",
              "\n",
              "    .dataframe thead th {\n",
              "        text-align: right;\n",
              "    }\n",
              "</style>\n",
              "<table border=\"1\" class=\"dataframe\">\n",
              "  <thead>\n",
              "    <tr style=\"text-align: right;\">\n",
              "      <th></th>\n",
              "      <th>is_malicious</th>\n",
              "      <th>predicted_is_malicious</th>\n",
              "    </tr>\n",
              "    <tr>\n",
              "      <th>index</th>\n",
              "      <th></th>\n",
              "      <th></th>\n",
              "    </tr>\n",
              "  </thead>\n",
              "  <tbody>\n",
              "    <tr>\n",
              "      <th>0</th>\n",
              "      <td>0.0</td>\n",
              "      <td>0.0</td>\n",
              "    </tr>\n",
              "    <tr>\n",
              "      <th>1</th>\n",
              "      <td>0.0</td>\n",
              "      <td>0.0</td>\n",
              "    </tr>\n",
              "    <tr>\n",
              "      <th>2</th>\n",
              "      <td>1.0</td>\n",
              "      <td>1.0</td>\n",
              "    </tr>\n",
              "    <tr>\n",
              "      <th>3</th>\n",
              "      <td>0.0</td>\n",
              "      <td>0.0</td>\n",
              "    </tr>\n",
              "    <tr>\n",
              "      <th>4</th>\n",
              "      <td>0.0</td>\n",
              "      <td>0.0</td>\n",
              "    </tr>\n",
              "    <tr>\n",
              "      <th>...</th>\n",
              "      <td>...</td>\n",
              "      <td>...</td>\n",
              "    </tr>\n",
              "    <tr>\n",
              "      <th>110355</th>\n",
              "      <td>0.0</td>\n",
              "      <td>0.0</td>\n",
              "    </tr>\n",
              "    <tr>\n",
              "      <th>110356</th>\n",
              "      <td>0.0</td>\n",
              "      <td>0.0</td>\n",
              "    </tr>\n",
              "    <tr>\n",
              "      <th>110357</th>\n",
              "      <td>0.0</td>\n",
              "      <td>0.0</td>\n",
              "    </tr>\n",
              "    <tr>\n",
              "      <th>110358</th>\n",
              "      <td>0.0</td>\n",
              "      <td>0.0</td>\n",
              "    </tr>\n",
              "    <tr>\n",
              "      <th>110359</th>\n",
              "      <td>1.0</td>\n",
              "      <td>1.0</td>\n",
              "    </tr>\n",
              "  </tbody>\n",
              "</table>\n",
              "<p>110357 rows × 2 columns</p>\n",
              "</div>"
            ],
            "text/plain": [
              "        is_malicious  predicted_is_malicious\n",
              "index                                       \n",
              "0                0.0                     0.0\n",
              "1                0.0                     0.0\n",
              "2                1.0                     1.0\n",
              "3                0.0                     0.0\n",
              "4                0.0                     0.0\n",
              "...              ...                     ...\n",
              "110355           0.0                     0.0\n",
              "110356           0.0                     0.0\n",
              "110357           0.0                     0.0\n",
              "110358           0.0                     0.0\n",
              "110359           1.0                     1.0\n",
              "\n",
              "[110357 rows x 2 columns]"
            ]
          },
          "metadata": {
            "tags": []
          },
          "execution_count": 23
        }
      ]
    },
    {
      "cell_type": "markdown",
      "metadata": {
        "id": "WMJzES7gQma3",
        "colab_type": "text"
      },
      "source": [
        "# Storing the trained model into pickel file\n",
        "to skip the training step all time and directly load trained data from file"
      ]
    },
    {
      "cell_type": "code",
      "metadata": {
        "id": "8dCV8hhPQiaH",
        "colab_type": "code",
        "colab": {}
      },
      "source": [
        "#creating binary file\n",
        "\n",
        "with open(\"mms_maf_final\",\"wb\") as file:\n",
        "  pickle.dump(xgb_classifer,file)"
      ],
      "execution_count": null,
      "outputs": []
    },
    {
      "cell_type": "code",
      "metadata": {
        "id": "OdyrwPRfRuQp",
        "colab_type": "code",
        "colab": {}
      },
      "source": [
        "#reading binary file\n",
        "\n",
        "with open(\"mms_maf_final\",\"rb\") as file:\n",
        "  xgb_classifer_pickle = pickle.load(file)"
      ],
      "execution_count": null,
      "outputs": []
    },
    {
      "cell_type": "code",
      "metadata": {
        "id": "OKWTEznFSHNn",
        "colab_type": "code",
        "colab": {
          "base_uri": "https://localhost:8080/",
          "height": 436
        },
        "outputId": "b996f184-82cd-4295-f07e-d0f8b6490d80"
      },
      "source": [
        "#testing the model via pickle file\n",
        "data['predicted_is_malicious_pickle'] = xgb_classifer_pickle.predict(X)\n",
        "data[[\"is_malicious\",\"predicted_is_malicious\",\"predicted_is_malicious_pickle\"]]"
      ],
      "execution_count": null,
      "outputs": [
        {
          "output_type": "execute_result",
          "data": {
            "text/html": [
              "<div>\n",
              "<style scoped>\n",
              "    .dataframe tbody tr th:only-of-type {\n",
              "        vertical-align: middle;\n",
              "    }\n",
              "\n",
              "    .dataframe tbody tr th {\n",
              "        vertical-align: top;\n",
              "    }\n",
              "\n",
              "    .dataframe thead th {\n",
              "        text-align: right;\n",
              "    }\n",
              "</style>\n",
              "<table border=\"1\" class=\"dataframe\">\n",
              "  <thead>\n",
              "    <tr style=\"text-align: right;\">\n",
              "      <th></th>\n",
              "      <th>is_malicious</th>\n",
              "      <th>predicted_is_malicious</th>\n",
              "      <th>predicted_is_malicious_pickle</th>\n",
              "    </tr>\n",
              "    <tr>\n",
              "      <th>index</th>\n",
              "      <th></th>\n",
              "      <th></th>\n",
              "      <th></th>\n",
              "    </tr>\n",
              "  </thead>\n",
              "  <tbody>\n",
              "    <tr>\n",
              "      <th>0</th>\n",
              "      <td>0.0</td>\n",
              "      <td>0.0</td>\n",
              "      <td>0.0</td>\n",
              "    </tr>\n",
              "    <tr>\n",
              "      <th>1</th>\n",
              "      <td>0.0</td>\n",
              "      <td>0.0</td>\n",
              "      <td>0.0</td>\n",
              "    </tr>\n",
              "    <tr>\n",
              "      <th>2</th>\n",
              "      <td>1.0</td>\n",
              "      <td>1.0</td>\n",
              "      <td>1.0</td>\n",
              "    </tr>\n",
              "    <tr>\n",
              "      <th>3</th>\n",
              "      <td>0.0</td>\n",
              "      <td>0.0</td>\n",
              "      <td>0.0</td>\n",
              "    </tr>\n",
              "    <tr>\n",
              "      <th>4</th>\n",
              "      <td>0.0</td>\n",
              "      <td>0.0</td>\n",
              "      <td>0.0</td>\n",
              "    </tr>\n",
              "    <tr>\n",
              "      <th>...</th>\n",
              "      <td>...</td>\n",
              "      <td>...</td>\n",
              "      <td>...</td>\n",
              "    </tr>\n",
              "    <tr>\n",
              "      <th>110355</th>\n",
              "      <td>0.0</td>\n",
              "      <td>0.0</td>\n",
              "      <td>0.0</td>\n",
              "    </tr>\n",
              "    <tr>\n",
              "      <th>110356</th>\n",
              "      <td>0.0</td>\n",
              "      <td>0.0</td>\n",
              "      <td>0.0</td>\n",
              "    </tr>\n",
              "    <tr>\n",
              "      <th>110357</th>\n",
              "      <td>0.0</td>\n",
              "      <td>0.0</td>\n",
              "      <td>0.0</td>\n",
              "    </tr>\n",
              "    <tr>\n",
              "      <th>110358</th>\n",
              "      <td>0.0</td>\n",
              "      <td>0.0</td>\n",
              "      <td>0.0</td>\n",
              "    </tr>\n",
              "    <tr>\n",
              "      <th>110359</th>\n",
              "      <td>1.0</td>\n",
              "      <td>1.0</td>\n",
              "      <td>1.0</td>\n",
              "    </tr>\n",
              "  </tbody>\n",
              "</table>\n",
              "<p>110357 rows × 3 columns</p>\n",
              "</div>"
            ],
            "text/plain": [
              "        is_malicious  predicted_is_malicious  predicted_is_malicious_pickle\n",
              "index                                                                      \n",
              "0                0.0                     0.0                            0.0\n",
              "1                0.0                     0.0                            0.0\n",
              "2                1.0                     1.0                            1.0\n",
              "3                0.0                     0.0                            0.0\n",
              "4                0.0                     0.0                            0.0\n",
              "...              ...                     ...                            ...\n",
              "110355           0.0                     0.0                            0.0\n",
              "110356           0.0                     0.0                            0.0\n",
              "110357           0.0                     0.0                            0.0\n",
              "110358           0.0                     0.0                            0.0\n",
              "110359           1.0                     1.0                            1.0\n",
              "\n",
              "[110357 rows x 3 columns]"
            ]
          },
          "metadata": {
            "tags": []
          },
          "execution_count": 67
        }
      ]
    },
    {
      "cell_type": "markdown",
      "metadata": {
        "id": "XeWudJs6X-3S",
        "colab_type": "text"
      },
      "source": [
        "Storing model with joblib\n",
        "\n"
      ]
    },
    {
      "cell_type": "code",
      "metadata": {
        "id": "PyzyIdljX927",
        "colab_type": "code",
        "colab": {
          "base_uri": "https://localhost:8080/",
          "height": 90
        },
        "outputId": "92f49c82-0b7b-4c19-f438-7713414c8c4a"
      },
      "source": [
        "from sklearn.externals import joblib\n",
        "joblib.dump(xgb_classifer,\"mms_waf_joblib\")\n"
      ],
      "execution_count": null,
      "outputs": [
        {
          "output_type": "stream",
          "text": [
            "/usr/local/lib/python3.6/dist-packages/sklearn/externals/joblib/__init__.py:15: FutureWarning: sklearn.externals.joblib is deprecated in 0.21 and will be removed in 0.23. Please import this functionality directly from joblib, which can be installed with: pip install joblib. If this warning is raised when loading pickled models, you may need to re-serialize those models with scikit-learn 0.21+.\n",
            "  warnings.warn(msg, category=FutureWarning)\n"
          ],
          "name": "stderr"
        },
        {
          "output_type": "execute_result",
          "data": {
            "text/plain": [
              "['mms_waf_joblib']"
            ]
          },
          "metadata": {
            "tags": []
          },
          "execution_count": 68
        }
      ]
    },
    {
      "cell_type": "code",
      "metadata": {
        "id": "IzmocDyaYs9U",
        "colab_type": "code",
        "colab": {
          "base_uri": "https://localhost:8080/",
          "height": 436
        },
        "outputId": "6c3600cc-7670-4b9a-966f-d7bfbde30cff"
      },
      "source": [
        "#prwediction via joblib\n",
        "#testing the model via pickle file\n",
        "xgb_classifer_joblib = joblib.load(\"mms_waf_joblib\")\n",
        "data['predicted_is_malicious_joblib'] = xgb_classifer_joblib.predict(X)\n",
        "data[[\"is_malicious\",\"predicted_is_malicious\",\"predicted_is_malicious_joblib\"]]"
      ],
      "execution_count": null,
      "outputs": [
        {
          "output_type": "execute_result",
          "data": {
            "text/html": [
              "<div>\n",
              "<style scoped>\n",
              "    .dataframe tbody tr th:only-of-type {\n",
              "        vertical-align: middle;\n",
              "    }\n",
              "\n",
              "    .dataframe tbody tr th {\n",
              "        vertical-align: top;\n",
              "    }\n",
              "\n",
              "    .dataframe thead th {\n",
              "        text-align: right;\n",
              "    }\n",
              "</style>\n",
              "<table border=\"1\" class=\"dataframe\">\n",
              "  <thead>\n",
              "    <tr style=\"text-align: right;\">\n",
              "      <th></th>\n",
              "      <th>is_malicious</th>\n",
              "      <th>predicted_is_malicious</th>\n",
              "      <th>predicted_is_malicious_joblib</th>\n",
              "    </tr>\n",
              "    <tr>\n",
              "      <th>index</th>\n",
              "      <th></th>\n",
              "      <th></th>\n",
              "      <th></th>\n",
              "    </tr>\n",
              "  </thead>\n",
              "  <tbody>\n",
              "    <tr>\n",
              "      <th>0</th>\n",
              "      <td>0.0</td>\n",
              "      <td>0.0</td>\n",
              "      <td>0.0</td>\n",
              "    </tr>\n",
              "    <tr>\n",
              "      <th>1</th>\n",
              "      <td>0.0</td>\n",
              "      <td>0.0</td>\n",
              "      <td>0.0</td>\n",
              "    </tr>\n",
              "    <tr>\n",
              "      <th>2</th>\n",
              "      <td>1.0</td>\n",
              "      <td>1.0</td>\n",
              "      <td>1.0</td>\n",
              "    </tr>\n",
              "    <tr>\n",
              "      <th>3</th>\n",
              "      <td>0.0</td>\n",
              "      <td>0.0</td>\n",
              "      <td>0.0</td>\n",
              "    </tr>\n",
              "    <tr>\n",
              "      <th>4</th>\n",
              "      <td>0.0</td>\n",
              "      <td>0.0</td>\n",
              "      <td>0.0</td>\n",
              "    </tr>\n",
              "    <tr>\n",
              "      <th>...</th>\n",
              "      <td>...</td>\n",
              "      <td>...</td>\n",
              "      <td>...</td>\n",
              "    </tr>\n",
              "    <tr>\n",
              "      <th>110355</th>\n",
              "      <td>0.0</td>\n",
              "      <td>0.0</td>\n",
              "      <td>0.0</td>\n",
              "    </tr>\n",
              "    <tr>\n",
              "      <th>110356</th>\n",
              "      <td>0.0</td>\n",
              "      <td>0.0</td>\n",
              "      <td>0.0</td>\n",
              "    </tr>\n",
              "    <tr>\n",
              "      <th>110357</th>\n",
              "      <td>0.0</td>\n",
              "      <td>0.0</td>\n",
              "      <td>0.0</td>\n",
              "    </tr>\n",
              "    <tr>\n",
              "      <th>110358</th>\n",
              "      <td>0.0</td>\n",
              "      <td>0.0</td>\n",
              "      <td>0.0</td>\n",
              "    </tr>\n",
              "    <tr>\n",
              "      <th>110359</th>\n",
              "      <td>1.0</td>\n",
              "      <td>1.0</td>\n",
              "      <td>1.0</td>\n",
              "    </tr>\n",
              "  </tbody>\n",
              "</table>\n",
              "<p>110357 rows × 3 columns</p>\n",
              "</div>"
            ],
            "text/plain": [
              "        is_malicious  predicted_is_malicious  predicted_is_malicious_joblib\n",
              "index                                                                      \n",
              "0                0.0                     0.0                            0.0\n",
              "1                0.0                     0.0                            0.0\n",
              "2                1.0                     1.0                            1.0\n",
              "3                0.0                     0.0                            0.0\n",
              "4                0.0                     0.0                            0.0\n",
              "...              ...                     ...                            ...\n",
              "110355           0.0                     0.0                            0.0\n",
              "110356           0.0                     0.0                            0.0\n",
              "110357           0.0                     0.0                            0.0\n",
              "110358           0.0                     0.0                            0.0\n",
              "110359           1.0                     1.0                            1.0\n",
              "\n",
              "[110357 rows x 3 columns]"
            ]
          },
          "metadata": {
            "tags": []
          },
          "execution_count": 69
        }
      ]
    },
    {
      "cell_type": "markdown",
      "metadata": {
        "id": "l2lNeV85ql0U",
        "colab_type": "text"
      },
      "source": [
        "# Integration with website\n"
      ]
    },
    {
      "cell_type": "code",
      "metadata": {
        "id": "M7dJbdcx0WP0",
        "colab_type": "code",
        "colab": {
          "base_uri": "https://localhost:8080/",
          "height": 194
        },
        "outputId": "7d09a20f-20ed-4dbf-ecf7-1b98359808ec"
      },
      "source": [
        "independent_variables=['length', 'non-printable','punctuation', 'min-byte', 'max-byte', 'mean-byte', 'std-byte','distinct-byte', 'sql-keywords', 'js-keywords']\n",
        "independent_variables"
      ],
      "execution_count": null,
      "outputs": [
        {
          "output_type": "execute_result",
          "data": {
            "text/plain": [
              "['length',\n",
              " 'non-printable',\n",
              " 'punctuation',\n",
              " 'min-byte',\n",
              " 'max-byte',\n",
              " 'mean-byte',\n",
              " 'std-byte',\n",
              " 'distinct-byte',\n",
              " 'sql-keywords',\n",
              " 'js-keywords']"
            ]
          },
          "metadata": {
            "tags": []
          },
          "execution_count": 33
        }
      ]
    },
    {
      "cell_type": "code",
      "metadata": {
        "id": "6G6F9NuKpX71",
        "colab_type": "code",
        "colab": {}
      },
      "source": [
        "independent_variables=data.columns\n",
        "\n",
        "sql_keywords = pd.read_csv('https://trello-attachments.s3.amazonaws.com/5ed2d4107c349c221194b608/5ed2d453f0e5a45bcd8cf16c/435e639346787ce2b495a16e9f690ef5/SQLKeywords.txt', index_col=False)\n",
        "js_keywords = pd.read_csv(\"https://trello-attachments.s3.amazonaws.com/5ed2d4107c349c221194b608/5ed2d453f0e5a45bcd8cf16c/dedc7eb9846a30c252cd950a0e2153d9/JavascriptKeywords.txt\",index_col=False)\n",
        "def calculate_features_and_predict(payload):\n",
        "  features = {} \n",
        "  payload = str(payload)\n",
        "  features['length'] = len(payload)\n",
        "  features['non-printable'] = len([1 for letter in payload if letter not in string.printable])\n",
        "  features['punctuation'] = len([1 for letter in payload if letter in string.punctuation])\n",
        "  features['min-byte'] = min(bytearray(payload,'utf-8'))\n",
        "  features['max-byte'] = max(bytearray(payload,'utf-8'))\n",
        "  features['mean-byte'] = np.mean(bytearray(payload,'utf-8'))\n",
        "  features['std-byte'] = np.std(bytearray(payload,'utf-8'))\n",
        "  features['distinct-byte'] = len(set(bytearray(payload,'utf-8')))\n",
        "  features['sql-keywords'] = len([1 for keyword in sql_keywords['Keyword'] if str(keyword).lower() in payload.lower()])\n",
        "  features['js-keywords'] = len([1 for keyword in js_keywords['Keyword'] if str(keyword).lower() in payload.lower()])\n",
        "  #payload_df = pd.DataFrame(data=features,index=[0],columns=independent_variables)\n",
        "  payload_df = pd.DataFrame(features,index=[0])\n",
        "  display(payload_df)\n",
        "  result = xgb_classifer.predict(payload_df)\n",
        "  #display(result)\n",
        "  return result[0]\n"
      ],
      "execution_count": null,
      "outputs": []
    },
    {
      "cell_type": "code",
      "metadata": {
        "id": "ZFYsJ5IH46zU",
        "colab_type": "code",
        "colab": {
          "base_uri": "https://localhost:8080/",
          "height": 130
        },
        "outputId": "38d8f17a-337b-4b9f-aefb-55a892a9cc71"
      },
      "source": [
        "calculate_features_and_predict(\"<>\")"
      ],
      "execution_count": null,
      "outputs": [
        {
          "output_type": "display_data",
          "data": {
            "text/html": [
              "<div>\n",
              "<style scoped>\n",
              "    .dataframe tbody tr th:only-of-type {\n",
              "        vertical-align: middle;\n",
              "    }\n",
              "\n",
              "    .dataframe tbody tr th {\n",
              "        vertical-align: top;\n",
              "    }\n",
              "\n",
              "    .dataframe thead th {\n",
              "        text-align: right;\n",
              "    }\n",
              "</style>\n",
              "<table border=\"1\" class=\"dataframe\">\n",
              "  <thead>\n",
              "    <tr style=\"text-align: right;\">\n",
              "      <th></th>\n",
              "      <th>length</th>\n",
              "      <th>non-printable</th>\n",
              "      <th>punctuation</th>\n",
              "      <th>min-byte</th>\n",
              "      <th>max-byte</th>\n",
              "      <th>mean-byte</th>\n",
              "      <th>std-byte</th>\n",
              "      <th>distinct-byte</th>\n",
              "      <th>sql-keywords</th>\n",
              "      <th>js-keywords</th>\n",
              "    </tr>\n",
              "  </thead>\n",
              "  <tbody>\n",
              "    <tr>\n",
              "      <th>0</th>\n",
              "      <td>26</td>\n",
              "      <td>0</td>\n",
              "      <td>8</td>\n",
              "      <td>40</td>\n",
              "      <td>116</td>\n",
              "      <td>93.461538</td>\n",
              "      <td>26.99463</td>\n",
              "      <td>13</td>\n",
              "      <td>0</td>\n",
              "      <td>1</td>\n",
              "    </tr>\n",
              "  </tbody>\n",
              "</table>\n",
              "</div>"
            ],
            "text/plain": [
              "   length  non-printable  punctuation  ...  distinct-byte  sql-keywords  js-keywords\n",
              "0      26              0            8  ...             13             0            1\n",
              "\n",
              "[1 rows x 10 columns]"
            ]
          },
          "metadata": {
            "tags": []
          }
        },
        {
          "output_type": "display_data",
          "data": {
            "text/plain": [
              "array([1.])"
            ]
          },
          "metadata": {
            "tags": []
          }
        },
        {
          "output_type": "execute_result",
          "data": {
            "text/plain": [
              "1.0"
            ]
          },
          "metadata": {
            "tags": []
          },
          "execution_count": 52
        }
      ]
    },
    {
      "cell_type": "code",
      "metadata": {
        "id": "z7LCTqb123xr",
        "colab_type": "code",
        "colab": {
          "base_uri": "https://localhost:8080/",
          "height": 1000
        },
        "outputId": "afed99a5-9523-4919-9148-b15a0fe32865"
      },
      "source": [
        "payload=''\n",
        "while (payload != 'exit' ):\n",
        "  payload = input(\"Enter payload\")\n",
        "  result = calculate_features_and_predict(payload)\n",
        "  if(result > 0):\n",
        "    print(f\"Your payload {payload} is malicious - 403 error\\n\")\n",
        "  else:\n",
        "    print(f\"Your payload {payload} is safe 200 OK\\n\")"
      ],
      "execution_count": null,
      "outputs": [
        {
          "output_type": "stream",
          "text": [
            "Enter payload\"><svg/onload=alert(1)>\n"
          ],
          "name": "stdout"
        },
        {
          "output_type": "display_data",
          "data": {
            "text/html": [
              "<div>\n",
              "<style scoped>\n",
              "    .dataframe tbody tr th:only-of-type {\n",
              "        vertical-align: middle;\n",
              "    }\n",
              "\n",
              "    .dataframe tbody tr th {\n",
              "        vertical-align: top;\n",
              "    }\n",
              "\n",
              "    .dataframe thead th {\n",
              "        text-align: right;\n",
              "    }\n",
              "</style>\n",
              "<table border=\"1\" class=\"dataframe\">\n",
              "  <thead>\n",
              "    <tr style=\"text-align: right;\">\n",
              "      <th></th>\n",
              "      <th>length</th>\n",
              "      <th>non-printable</th>\n",
              "      <th>punctuation</th>\n",
              "      <th>min-byte</th>\n",
              "      <th>max-byte</th>\n",
              "      <th>mean-byte</th>\n",
              "      <th>std-byte</th>\n",
              "      <th>distinct-byte</th>\n",
              "      <th>sql-keywords</th>\n",
              "      <th>js-keywords</th>\n",
              "    </tr>\n",
              "  </thead>\n",
              "  <tbody>\n",
              "    <tr>\n",
              "      <th>0</th>\n",
              "      <td>23</td>\n",
              "      <td>0</td>\n",
              "      <td>8</td>\n",
              "      <td>34</td>\n",
              "      <td>118</td>\n",
              "      <td>85.434783</td>\n",
              "      <td>29.09927</td>\n",
              "      <td>19</td>\n",
              "      <td>0</td>\n",
              "      <td>1</td>\n",
              "    </tr>\n",
              "  </tbody>\n",
              "</table>\n",
              "</div>"
            ],
            "text/plain": [
              "   length  non-printable  punctuation  ...  distinct-byte  sql-keywords  js-keywords\n",
              "0      23              0            8  ...             19             0            1\n",
              "\n",
              "[1 rows x 10 columns]"
            ]
          },
          "metadata": {
            "tags": []
          }
        },
        {
          "output_type": "display_data",
          "data": {
            "text/plain": [
              "array([1.])"
            ]
          },
          "metadata": {
            "tags": []
          }
        },
        {
          "output_type": "stream",
          "text": [
            "Your payload \"><svg/onload=alert(1)> is malicious - 403 error\n",
            "\n",
            "Enter payload\"><img src=x onerror=alert(1)>\n"
          ],
          "name": "stdout"
        },
        {
          "output_type": "display_data",
          "data": {
            "text/html": [
              "<div>\n",
              "<style scoped>\n",
              "    .dataframe tbody tr th:only-of-type {\n",
              "        vertical-align: middle;\n",
              "    }\n",
              "\n",
              "    .dataframe tbody tr th {\n",
              "        vertical-align: top;\n",
              "    }\n",
              "\n",
              "    .dataframe thead th {\n",
              "        text-align: right;\n",
              "    }\n",
              "</style>\n",
              "<table border=\"1\" class=\"dataframe\">\n",
              "  <thead>\n",
              "    <tr style=\"text-align: right;\">\n",
              "      <th></th>\n",
              "      <th>length</th>\n",
              "      <th>non-printable</th>\n",
              "      <th>punctuation</th>\n",
              "      <th>min-byte</th>\n",
              "      <th>max-byte</th>\n",
              "      <th>mean-byte</th>\n",
              "      <th>std-byte</th>\n",
              "      <th>distinct-byte</th>\n",
              "      <th>sql-keywords</th>\n",
              "      <th>js-keywords</th>\n",
              "    </tr>\n",
              "  </thead>\n",
              "  <tbody>\n",
              "    <tr>\n",
              "      <th>0</th>\n",
              "      <td>30</td>\n",
              "      <td>0</td>\n",
              "      <td>8</td>\n",
              "      <td>32</td>\n",
              "      <td>120</td>\n",
              "      <td>87.0</td>\n",
              "      <td>30.626786</td>\n",
              "      <td>21</td>\n",
              "      <td>0</td>\n",
              "      <td>1</td>\n",
              "    </tr>\n",
              "  </tbody>\n",
              "</table>\n",
              "</div>"
            ],
            "text/plain": [
              "   length  non-printable  punctuation  ...  distinct-byte  sql-keywords  js-keywords\n",
              "0      30              0            8  ...             21             0            1\n",
              "\n",
              "[1 rows x 10 columns]"
            ]
          },
          "metadata": {
            "tags": []
          }
        },
        {
          "output_type": "display_data",
          "data": {
            "text/plain": [
              "array([1.])"
            ]
          },
          "metadata": {
            "tags": []
          }
        },
        {
          "output_type": "stream",
          "text": [
            "Your payload \"><img src=x onerror=alert(1)> is malicious - 403 error\n",
            "\n",
            "Enter payload\"><script>alert(1)</script>\n"
          ],
          "name": "stdout"
        },
        {
          "output_type": "display_data",
          "data": {
            "text/html": [
              "<div>\n",
              "<style scoped>\n",
              "    .dataframe tbody tr th:only-of-type {\n",
              "        vertical-align: middle;\n",
              "    }\n",
              "\n",
              "    .dataframe tbody tr th {\n",
              "        vertical-align: top;\n",
              "    }\n",
              "\n",
              "    .dataframe thead th {\n",
              "        text-align: right;\n",
              "    }\n",
              "</style>\n",
              "<table border=\"1\" class=\"dataframe\">\n",
              "  <thead>\n",
              "    <tr style=\"text-align: right;\">\n",
              "      <th></th>\n",
              "      <th>length</th>\n",
              "      <th>non-printable</th>\n",
              "      <th>punctuation</th>\n",
              "      <th>min-byte</th>\n",
              "      <th>max-byte</th>\n",
              "      <th>mean-byte</th>\n",
              "      <th>std-byte</th>\n",
              "      <th>distinct-byte</th>\n",
              "      <th>sql-keywords</th>\n",
              "      <th>js-keywords</th>\n",
              "    </tr>\n",
              "  </thead>\n",
              "  <tbody>\n",
              "    <tr>\n",
              "      <th>0</th>\n",
              "      <td>27</td>\n",
              "      <td>0</td>\n",
              "      <td>9</td>\n",
              "      <td>34</td>\n",
              "      <td>116</td>\n",
              "      <td>87.962963</td>\n",
              "      <td>28.987202</td>\n",
              "      <td>16</td>\n",
              "      <td>0</td>\n",
              "      <td>1</td>\n",
              "    </tr>\n",
              "  </tbody>\n",
              "</table>\n",
              "</div>"
            ],
            "text/plain": [
              "   length  non-printable  punctuation  ...  distinct-byte  sql-keywords  js-keywords\n",
              "0      27              0            9  ...             16             0            1\n",
              "\n",
              "[1 rows x 10 columns]"
            ]
          },
          "metadata": {
            "tags": []
          }
        },
        {
          "output_type": "display_data",
          "data": {
            "text/plain": [
              "array([1.])"
            ]
          },
          "metadata": {
            "tags": []
          }
        },
        {
          "output_type": "stream",
          "text": [
            "Your payload \"><script>alert(1)</script> is malicious - 403 error\n",
            "\n",
            "Enter payload<marquee width=1 loop=1 onbounce=alert(1)>XSS</marquee>\n"
          ],
          "name": "stdout"
        },
        {
          "output_type": "display_data",
          "data": {
            "text/html": [
              "<div>\n",
              "<style scoped>\n",
              "    .dataframe tbody tr th:only-of-type {\n",
              "        vertical-align: middle;\n",
              "    }\n",
              "\n",
              "    .dataframe tbody tr th {\n",
              "        vertical-align: top;\n",
              "    }\n",
              "\n",
              "    .dataframe thead th {\n",
              "        text-align: right;\n",
              "    }\n",
              "</style>\n",
              "<table border=\"1\" class=\"dataframe\">\n",
              "  <thead>\n",
              "    <tr style=\"text-align: right;\">\n",
              "      <th></th>\n",
              "      <th>length</th>\n",
              "      <th>non-printable</th>\n",
              "      <th>punctuation</th>\n",
              "      <th>min-byte</th>\n",
              "      <th>max-byte</th>\n",
              "      <th>mean-byte</th>\n",
              "      <th>std-byte</th>\n",
              "      <th>distinct-byte</th>\n",
              "      <th>sql-keywords</th>\n",
              "      <th>js-keywords</th>\n",
              "    </tr>\n",
              "  </thead>\n",
              "  <tbody>\n",
              "    <tr>\n",
              "      <th>0</th>\n",
              "      <td>55</td>\n",
              "      <td>0</td>\n",
              "      <td>10</td>\n",
              "      <td>32</td>\n",
              "      <td>119</td>\n",
              "      <td>89.727273</td>\n",
              "      <td>27.301984</td>\n",
              "      <td>27</td>\n",
              "      <td>1</td>\n",
              "      <td>1</td>\n",
              "    </tr>\n",
              "  </tbody>\n",
              "</table>\n",
              "</div>"
            ],
            "text/plain": [
              "   length  non-printable  punctuation  ...  distinct-byte  sql-keywords  js-keywords\n",
              "0      55              0           10  ...             27             1            1\n",
              "\n",
              "[1 rows x 10 columns]"
            ]
          },
          "metadata": {
            "tags": []
          }
        },
        {
          "output_type": "display_data",
          "data": {
            "text/plain": [
              "array([1.])"
            ]
          },
          "metadata": {
            "tags": []
          }
        },
        {
          "output_type": "stream",
          "text": [
            "Your payload <marquee width=1 loop=1 onbounce=alert(1)>XSS</marquee> is malicious - 403 error\n",
            "\n",
            "Enter payload<video oncanplaythrough=alert(1)><source src=\"validvideo.mp4\" type=\"video/mp4\"></video>\n"
          ],
          "name": "stdout"
        },
        {
          "output_type": "display_data",
          "data": {
            "text/html": [
              "<div>\n",
              "<style scoped>\n",
              "    .dataframe tbody tr th:only-of-type {\n",
              "        vertical-align: middle;\n",
              "    }\n",
              "\n",
              "    .dataframe tbody tr th {\n",
              "        vertical-align: top;\n",
              "    }\n",
              "\n",
              "    .dataframe thead th {\n",
              "        text-align: right;\n",
              "    }\n",
              "</style>\n",
              "<table border=\"1\" class=\"dataframe\">\n",
              "  <thead>\n",
              "    <tr style=\"text-align: right;\">\n",
              "      <th></th>\n",
              "      <th>length</th>\n",
              "      <th>non-printable</th>\n",
              "      <th>punctuation</th>\n",
              "      <th>min-byte</th>\n",
              "      <th>max-byte</th>\n",
              "      <th>mean-byte</th>\n",
              "      <th>std-byte</th>\n",
              "      <th>distinct-byte</th>\n",
              "      <th>sql-keywords</th>\n",
              "      <th>js-keywords</th>\n",
              "    </tr>\n",
              "  </thead>\n",
              "  <tbody>\n",
              "    <tr>\n",
              "      <th>0</th>\n",
              "      <td>87</td>\n",
              "      <td>0</td>\n",
              "      <td>18</td>\n",
              "      <td>32</td>\n",
              "      <td>121</td>\n",
              "      <td>91.609195</td>\n",
              "      <td>28.154074</td>\n",
              "      <td>29</td>\n",
              "      <td>3</td>\n",
              "      <td>1</td>\n",
              "    </tr>\n",
              "  </tbody>\n",
              "</table>\n",
              "</div>"
            ],
            "text/plain": [
              "   length  non-printable  punctuation  ...  distinct-byte  sql-keywords  js-keywords\n",
              "0      87              0           18  ...             29             3            1\n",
              "\n",
              "[1 rows x 10 columns]"
            ]
          },
          "metadata": {
            "tags": []
          }
        },
        {
          "output_type": "display_data",
          "data": {
            "text/plain": [
              "array([1.])"
            ]
          },
          "metadata": {
            "tags": []
          }
        },
        {
          "output_type": "stream",
          "text": [
            "Your payload <video oncanplaythrough=alert(1)><source src=\"validvideo.mp4\" type=\"video/mp4\"></video> is malicious - 403 error\n",
            "\n",
            "Enter payload<a id=x tabindex=1 onfocus=alert(1)></a>\n"
          ],
          "name": "stdout"
        },
        {
          "output_type": "display_data",
          "data": {
            "text/html": [
              "<div>\n",
              "<style scoped>\n",
              "    .dataframe tbody tr th:only-of-type {\n",
              "        vertical-align: middle;\n",
              "    }\n",
              "\n",
              "    .dataframe tbody tr th {\n",
              "        vertical-align: top;\n",
              "    }\n",
              "\n",
              "    .dataframe thead th {\n",
              "        text-align: right;\n",
              "    }\n",
              "</style>\n",
              "<table border=\"1\" class=\"dataframe\">\n",
              "  <thead>\n",
              "    <tr style=\"text-align: right;\">\n",
              "      <th></th>\n",
              "      <th>length</th>\n",
              "      <th>non-printable</th>\n",
              "      <th>punctuation</th>\n",
              "      <th>min-byte</th>\n",
              "      <th>max-byte</th>\n",
              "      <th>mean-byte</th>\n",
              "      <th>std-byte</th>\n",
              "      <th>distinct-byte</th>\n",
              "      <th>sql-keywords</th>\n",
              "      <th>js-keywords</th>\n",
              "    </tr>\n",
              "  </thead>\n",
              "  <tbody>\n",
              "    <tr>\n",
              "      <th>0</th>\n",
              "      <td>40</td>\n",
              "      <td>0</td>\n",
              "      <td>10</td>\n",
              "      <td>32</td>\n",
              "      <td>120</td>\n",
              "      <td>85.4</td>\n",
              "      <td>29.031707</td>\n",
              "      <td>23</td>\n",
              "      <td>1</td>\n",
              "      <td>3</td>\n",
              "    </tr>\n",
              "  </tbody>\n",
              "</table>\n",
              "</div>"
            ],
            "text/plain": [
              "   length  non-printable  punctuation  ...  distinct-byte  sql-keywords  js-keywords\n",
              "0      40              0           10  ...             23             1            3\n",
              "\n",
              "[1 rows x 10 columns]"
            ]
          },
          "metadata": {
            "tags": []
          }
        },
        {
          "output_type": "display_data",
          "data": {
            "text/plain": [
              "array([1.])"
            ]
          },
          "metadata": {
            "tags": []
          }
        },
        {
          "output_type": "stream",
          "text": [
            "Your payload <a id=x tabindex=1 onfocus=alert(1)></a> is malicious - 403 error\n",
            "\n",
            "Enter payload<image src=validimage.png onloadstart=alert(1)>\n"
          ],
          "name": "stdout"
        },
        {
          "output_type": "display_data",
          "data": {
            "text/html": [
              "<div>\n",
              "<style scoped>\n",
              "    .dataframe tbody tr th:only-of-type {\n",
              "        vertical-align: middle;\n",
              "    }\n",
              "\n",
              "    .dataframe tbody tr th {\n",
              "        vertical-align: top;\n",
              "    }\n",
              "\n",
              "    .dataframe thead th {\n",
              "        text-align: right;\n",
              "    }\n",
              "</style>\n",
              "<table border=\"1\" class=\"dataframe\">\n",
              "  <thead>\n",
              "    <tr style=\"text-align: right;\">\n",
              "      <th></th>\n",
              "      <th>length</th>\n",
              "      <th>non-printable</th>\n",
              "      <th>punctuation</th>\n",
              "      <th>min-byte</th>\n",
              "      <th>max-byte</th>\n",
              "      <th>mean-byte</th>\n",
              "      <th>std-byte</th>\n",
              "      <th>distinct-byte</th>\n",
              "      <th>sql-keywords</th>\n",
              "      <th>js-keywords</th>\n",
              "    </tr>\n",
              "  </thead>\n",
              "  <tbody>\n",
              "    <tr>\n",
              "      <th>0</th>\n",
              "      <td>47</td>\n",
              "      <td>0</td>\n",
              "      <td>7</td>\n",
              "      <td>32</td>\n",
              "      <td>118</td>\n",
              "      <td>94.170213</td>\n",
              "      <td>25.080567</td>\n",
              "      <td>23</td>\n",
              "      <td>2</td>\n",
              "      <td>2</td>\n",
              "    </tr>\n",
              "  </tbody>\n",
              "</table>\n",
              "</div>"
            ],
            "text/plain": [
              "   length  non-printable  punctuation  ...  distinct-byte  sql-keywords  js-keywords\n",
              "0      47              0            7  ...             23             2            2\n",
              "\n",
              "[1 rows x 10 columns]"
            ]
          },
          "metadata": {
            "tags": []
          }
        },
        {
          "output_type": "display_data",
          "data": {
            "text/plain": [
              "array([1.])"
            ]
          },
          "metadata": {
            "tags": []
          }
        },
        {
          "output_type": "stream",
          "text": [
            "Your payload <image src=validimage.png onloadstart=alert(1)> is malicious - 403 error\n",
            "\n",
            "Enter payload<a onbeforecopy=\"alert(1)\" contenteditable>test</a>\n"
          ],
          "name": "stdout"
        },
        {
          "output_type": "display_data",
          "data": {
            "text/html": [
              "<div>\n",
              "<style scoped>\n",
              "    .dataframe tbody tr th:only-of-type {\n",
              "        vertical-align: middle;\n",
              "    }\n",
              "\n",
              "    .dataframe tbody tr th {\n",
              "        vertical-align: top;\n",
              "    }\n",
              "\n",
              "    .dataframe thead th {\n",
              "        text-align: right;\n",
              "    }\n",
              "</style>\n",
              "<table border=\"1\" class=\"dataframe\">\n",
              "  <thead>\n",
              "    <tr style=\"text-align: right;\">\n",
              "      <th></th>\n",
              "      <th>length</th>\n",
              "      <th>non-printable</th>\n",
              "      <th>punctuation</th>\n",
              "      <th>min-byte</th>\n",
              "      <th>max-byte</th>\n",
              "      <th>mean-byte</th>\n",
              "      <th>std-byte</th>\n",
              "      <th>distinct-byte</th>\n",
              "      <th>sql-keywords</th>\n",
              "      <th>js-keywords</th>\n",
              "    </tr>\n",
              "  </thead>\n",
              "  <tbody>\n",
              "    <tr>\n",
              "      <th>0</th>\n",
              "      <td>51</td>\n",
              "      <td>0</td>\n",
              "      <td>10</td>\n",
              "      <td>32</td>\n",
              "      <td>121</td>\n",
              "      <td>91.607843</td>\n",
              "      <td>27.368279</td>\n",
              "      <td>24</td>\n",
              "      <td>2</td>\n",
              "      <td>2</td>\n",
              "    </tr>\n",
              "  </tbody>\n",
              "</table>\n",
              "</div>"
            ],
            "text/plain": [
              "   length  non-printable  punctuation  ...  distinct-byte  sql-keywords  js-keywords\n",
              "0      51              0           10  ...             24             2            2\n",
              "\n",
              "[1 rows x 10 columns]"
            ]
          },
          "metadata": {
            "tags": []
          }
        },
        {
          "output_type": "display_data",
          "data": {
            "text/plain": [
              "array([1.])"
            ]
          },
          "metadata": {
            "tags": []
          }
        },
        {
          "output_type": "stream",
          "text": [
            "Your payload <a onbeforecopy=\"alert(1)\" contenteditable>test</a> is malicious - 403 error\n",
            "\n",
            "Enter payloadsqli'or1=1--\n"
          ],
          "name": "stdout"
        },
        {
          "output_type": "display_data",
          "data": {
            "text/html": [
              "<div>\n",
              "<style scoped>\n",
              "    .dataframe tbody tr th:only-of-type {\n",
              "        vertical-align: middle;\n",
              "    }\n",
              "\n",
              "    .dataframe tbody tr th {\n",
              "        vertical-align: top;\n",
              "    }\n",
              "\n",
              "    .dataframe thead th {\n",
              "        text-align: right;\n",
              "    }\n",
              "</style>\n",
              "<table border=\"1\" class=\"dataframe\">\n",
              "  <thead>\n",
              "    <tr style=\"text-align: right;\">\n",
              "      <th></th>\n",
              "      <th>length</th>\n",
              "      <th>non-printable</th>\n",
              "      <th>punctuation</th>\n",
              "      <th>min-byte</th>\n",
              "      <th>max-byte</th>\n",
              "      <th>mean-byte</th>\n",
              "      <th>std-byte</th>\n",
              "      <th>distinct-byte</th>\n",
              "      <th>sql-keywords</th>\n",
              "      <th>js-keywords</th>\n",
              "    </tr>\n",
              "  </thead>\n",
              "  <tbody>\n",
              "    <tr>\n",
              "      <th>0</th>\n",
              "      <td>12</td>\n",
              "      <td>0</td>\n",
              "      <td>4</td>\n",
              "      <td>39</td>\n",
              "      <td>115</td>\n",
              "      <td>79.5</td>\n",
              "      <td>31.951787</td>\n",
              "      <td>10</td>\n",
              "      <td>0</td>\n",
              "      <td>0</td>\n",
              "    </tr>\n",
              "  </tbody>\n",
              "</table>\n",
              "</div>"
            ],
            "text/plain": [
              "   length  non-printable  punctuation  ...  distinct-byte  sql-keywords  js-keywords\n",
              "0      12              0            4  ...             10             0            0\n",
              "\n",
              "[1 rows x 10 columns]"
            ]
          },
          "metadata": {
            "tags": []
          }
        },
        {
          "output_type": "display_data",
          "data": {
            "text/plain": [
              "array([1.])"
            ]
          },
          "metadata": {
            "tags": []
          }
        },
        {
          "output_type": "stream",
          "text": [
            "Your payload sqli'or1=1-- is malicious - 403 error\n",
            "\n",
            "Enter payloadsql'='OR'\n"
          ],
          "name": "stdout"
        },
        {
          "output_type": "display_data",
          "data": {
            "text/html": [
              "<div>\n",
              "<style scoped>\n",
              "    .dataframe tbody tr th:only-of-type {\n",
              "        vertical-align: middle;\n",
              "    }\n",
              "\n",
              "    .dataframe tbody tr th {\n",
              "        vertical-align: top;\n",
              "    }\n",
              "\n",
              "    .dataframe thead th {\n",
              "        text-align: right;\n",
              "    }\n",
              "</style>\n",
              "<table border=\"1\" class=\"dataframe\">\n",
              "  <thead>\n",
              "    <tr style=\"text-align: right;\">\n",
              "      <th></th>\n",
              "      <th>length</th>\n",
              "      <th>non-printable</th>\n",
              "      <th>punctuation</th>\n",
              "      <th>min-byte</th>\n",
              "      <th>max-byte</th>\n",
              "      <th>mean-byte</th>\n",
              "      <th>std-byte</th>\n",
              "      <th>distinct-byte</th>\n",
              "      <th>sql-keywords</th>\n",
              "      <th>js-keywords</th>\n",
              "    </tr>\n",
              "  </thead>\n",
              "  <tbody>\n",
              "    <tr>\n",
              "      <th>0</th>\n",
              "      <td>9</td>\n",
              "      <td>0</td>\n",
              "      <td>4</td>\n",
              "      <td>39</td>\n",
              "      <td>115</td>\n",
              "      <td>75.0</td>\n",
              "      <td>30.335165</td>\n",
              "      <td>7</td>\n",
              "      <td>0</td>\n",
              "      <td>0</td>\n",
              "    </tr>\n",
              "  </tbody>\n",
              "</table>\n",
              "</div>"
            ],
            "text/plain": [
              "   length  non-printable  punctuation  ...  distinct-byte  sql-keywords  js-keywords\n",
              "0       9              0            4  ...              7             0            0\n",
              "\n",
              "[1 rows x 10 columns]"
            ]
          },
          "metadata": {
            "tags": []
          }
        },
        {
          "output_type": "display_data",
          "data": {
            "text/plain": [
              "array([1.])"
            ]
          },
          "metadata": {
            "tags": []
          }
        },
        {
          "output_type": "stream",
          "text": [
            "Your payload sql'='OR' is malicious - 403 error\n",
            "\n",
            "Enter payloadcmd;cat a.txt\n"
          ],
          "name": "stdout"
        },
        {
          "output_type": "display_data",
          "data": {
            "text/html": [
              "<div>\n",
              "<style scoped>\n",
              "    .dataframe tbody tr th:only-of-type {\n",
              "        vertical-align: middle;\n",
              "    }\n",
              "\n",
              "    .dataframe tbody tr th {\n",
              "        vertical-align: top;\n",
              "    }\n",
              "\n",
              "    .dataframe thead th {\n",
              "        text-align: right;\n",
              "    }\n",
              "</style>\n",
              "<table border=\"1\" class=\"dataframe\">\n",
              "  <thead>\n",
              "    <tr style=\"text-align: right;\">\n",
              "      <th></th>\n",
              "      <th>length</th>\n",
              "      <th>non-printable</th>\n",
              "      <th>punctuation</th>\n",
              "      <th>min-byte</th>\n",
              "      <th>max-byte</th>\n",
              "      <th>mean-byte</th>\n",
              "      <th>std-byte</th>\n",
              "      <th>distinct-byte</th>\n",
              "      <th>sql-keywords</th>\n",
              "      <th>js-keywords</th>\n",
              "    </tr>\n",
              "  </thead>\n",
              "  <tbody>\n",
              "    <tr>\n",
              "      <th>0</th>\n",
              "      <td>13</td>\n",
              "      <td>0</td>\n",
              "      <td>2</td>\n",
              "      <td>32</td>\n",
              "      <td>120</td>\n",
              "      <td>92.769231</td>\n",
              "      <td>27.470694</td>\n",
              "      <td>9</td>\n",
              "      <td>0</td>\n",
              "      <td>0</td>\n",
              "    </tr>\n",
              "  </tbody>\n",
              "</table>\n",
              "</div>"
            ],
            "text/plain": [
              "   length  non-printable  punctuation  ...  distinct-byte  sql-keywords  js-keywords\n",
              "0      13              0            2  ...              9             0            0\n",
              "\n",
              "[1 rows x 10 columns]"
            ]
          },
          "metadata": {
            "tags": []
          }
        },
        {
          "output_type": "display_data",
          "data": {
            "text/plain": [
              "array([0.])"
            ]
          },
          "metadata": {
            "tags": []
          }
        },
        {
          "output_type": "stream",
          "text": [
            "Your payload cmd;cat a.txt is safe 200 OK\n",
            "\n",
            "Enter payloadcmd;cat /etc/hosts\n"
          ],
          "name": "stdout"
        },
        {
          "output_type": "display_data",
          "data": {
            "text/html": [
              "<div>\n",
              "<style scoped>\n",
              "    .dataframe tbody tr th:only-of-type {\n",
              "        vertical-align: middle;\n",
              "    }\n",
              "\n",
              "    .dataframe tbody tr th {\n",
              "        vertical-align: top;\n",
              "    }\n",
              "\n",
              "    .dataframe thead th {\n",
              "        text-align: right;\n",
              "    }\n",
              "</style>\n",
              "<table border=\"1\" class=\"dataframe\">\n",
              "  <thead>\n",
              "    <tr style=\"text-align: right;\">\n",
              "      <th></th>\n",
              "      <th>length</th>\n",
              "      <th>non-printable</th>\n",
              "      <th>punctuation</th>\n",
              "      <th>min-byte</th>\n",
              "      <th>max-byte</th>\n",
              "      <th>mean-byte</th>\n",
              "      <th>std-byte</th>\n",
              "      <th>distinct-byte</th>\n",
              "      <th>sql-keywords</th>\n",
              "      <th>js-keywords</th>\n",
              "    </tr>\n",
              "  </thead>\n",
              "  <tbody>\n",
              "    <tr>\n",
              "      <th>0</th>\n",
              "      <td>18</td>\n",
              "      <td>0</td>\n",
              "      <td>3</td>\n",
              "      <td>32</td>\n",
              "      <td>116</td>\n",
              "      <td>93.444444</td>\n",
              "      <td>26.45588</td>\n",
              "      <td>12</td>\n",
              "      <td>0</td>\n",
              "      <td>0</td>\n",
              "    </tr>\n",
              "  </tbody>\n",
              "</table>\n",
              "</div>"
            ],
            "text/plain": [
              "   length  non-printable  punctuation  ...  distinct-byte  sql-keywords  js-keywords\n",
              "0      18              0            3  ...             12             0            0\n",
              "\n",
              "[1 rows x 10 columns]"
            ]
          },
          "metadata": {
            "tags": []
          }
        },
        {
          "output_type": "display_data",
          "data": {
            "text/plain": [
              "array([0.])"
            ]
          },
          "metadata": {
            "tags": []
          }
        },
        {
          "output_type": "stream",
          "text": [
            "Your payload cmd;cat /etc/hosts is safe 200 OK\n",
            "\n",
            "Enter payload;wget\n"
          ],
          "name": "stdout"
        },
        {
          "output_type": "display_data",
          "data": {
            "text/html": [
              "<div>\n",
              "<style scoped>\n",
              "    .dataframe tbody tr th:only-of-type {\n",
              "        vertical-align: middle;\n",
              "    }\n",
              "\n",
              "    .dataframe tbody tr th {\n",
              "        vertical-align: top;\n",
              "    }\n",
              "\n",
              "    .dataframe thead th {\n",
              "        text-align: right;\n",
              "    }\n",
              "</style>\n",
              "<table border=\"1\" class=\"dataframe\">\n",
              "  <thead>\n",
              "    <tr style=\"text-align: right;\">\n",
              "      <th></th>\n",
              "      <th>length</th>\n",
              "      <th>non-printable</th>\n",
              "      <th>punctuation</th>\n",
              "      <th>min-byte</th>\n",
              "      <th>max-byte</th>\n",
              "      <th>mean-byte</th>\n",
              "      <th>std-byte</th>\n",
              "      <th>distinct-byte</th>\n",
              "      <th>sql-keywords</th>\n",
              "      <th>js-keywords</th>\n",
              "    </tr>\n",
              "  </thead>\n",
              "  <tbody>\n",
              "    <tr>\n",
              "      <th>0</th>\n",
              "      <td>5</td>\n",
              "      <td>0</td>\n",
              "      <td>1</td>\n",
              "      <td>59</td>\n",
              "      <td>119</td>\n",
              "      <td>99.6</td>\n",
              "      <td>21.481155</td>\n",
              "      <td>5</td>\n",
              "      <td>0</td>\n",
              "      <td>0</td>\n",
              "    </tr>\n",
              "  </tbody>\n",
              "</table>\n",
              "</div>"
            ],
            "text/plain": [
              "   length  non-printable  punctuation  ...  distinct-byte  sql-keywords  js-keywords\n",
              "0       5              0            1  ...              5             0            0\n",
              "\n",
              "[1 rows x 10 columns]"
            ]
          },
          "metadata": {
            "tags": []
          }
        },
        {
          "output_type": "display_data",
          "data": {
            "text/plain": [
              "array([0.])"
            ]
          },
          "metadata": {
            "tags": []
          }
        },
        {
          "output_type": "stream",
          "text": [
            "Your payload ;wget is safe 200 OK\n",
            "\n",
            "Enter payload;wget 127.0.0\n"
          ],
          "name": "stdout"
        },
        {
          "output_type": "display_data",
          "data": {
            "text/html": [
              "<div>\n",
              "<style scoped>\n",
              "    .dataframe tbody tr th:only-of-type {\n",
              "        vertical-align: middle;\n",
              "    }\n",
              "\n",
              "    .dataframe tbody tr th {\n",
              "        vertical-align: top;\n",
              "    }\n",
              "\n",
              "    .dataframe thead th {\n",
              "        text-align: right;\n",
              "    }\n",
              "</style>\n",
              "<table border=\"1\" class=\"dataframe\">\n",
              "  <thead>\n",
              "    <tr style=\"text-align: right;\">\n",
              "      <th></th>\n",
              "      <th>length</th>\n",
              "      <th>non-printable</th>\n",
              "      <th>punctuation</th>\n",
              "      <th>min-byte</th>\n",
              "      <th>max-byte</th>\n",
              "      <th>mean-byte</th>\n",
              "      <th>std-byte</th>\n",
              "      <th>distinct-byte</th>\n",
              "      <th>sql-keywords</th>\n",
              "      <th>js-keywords</th>\n",
              "    </tr>\n",
              "  </thead>\n",
              "  <tbody>\n",
              "    <tr>\n",
              "      <th>0</th>\n",
              "      <td>13</td>\n",
              "      <td>0</td>\n",
              "      <td>3</td>\n",
              "      <td>32</td>\n",
              "      <td>119</td>\n",
              "      <td>67.076923</td>\n",
              "      <td>29.361046</td>\n",
              "      <td>11</td>\n",
              "      <td>0</td>\n",
              "      <td>0</td>\n",
              "    </tr>\n",
              "  </tbody>\n",
              "</table>\n",
              "</div>"
            ],
            "text/plain": [
              "   length  non-printable  punctuation  ...  distinct-byte  sql-keywords  js-keywords\n",
              "0      13              0            3  ...             11             0            0\n",
              "\n",
              "[1 rows x 10 columns]"
            ]
          },
          "metadata": {
            "tags": []
          }
        },
        {
          "output_type": "display_data",
          "data": {
            "text/plain": [
              "array([0.])"
            ]
          },
          "metadata": {
            "tags": []
          }
        },
        {
          "output_type": "stream",
          "text": [
            "Your payload ;wget 127.0.0 is safe 200 OK\n",
            "\n",
            "Enter payloadexit\n"
          ],
          "name": "stdout"
        },
        {
          "output_type": "display_data",
          "data": {
            "text/html": [
              "<div>\n",
              "<style scoped>\n",
              "    .dataframe tbody tr th:only-of-type {\n",
              "        vertical-align: middle;\n",
              "    }\n",
              "\n",
              "    .dataframe tbody tr th {\n",
              "        vertical-align: top;\n",
              "    }\n",
              "\n",
              "    .dataframe thead th {\n",
              "        text-align: right;\n",
              "    }\n",
              "</style>\n",
              "<table border=\"1\" class=\"dataframe\">\n",
              "  <thead>\n",
              "    <tr style=\"text-align: right;\">\n",
              "      <th></th>\n",
              "      <th>length</th>\n",
              "      <th>non-printable</th>\n",
              "      <th>punctuation</th>\n",
              "      <th>min-byte</th>\n",
              "      <th>max-byte</th>\n",
              "      <th>mean-byte</th>\n",
              "      <th>std-byte</th>\n",
              "      <th>distinct-byte</th>\n",
              "      <th>sql-keywords</th>\n",
              "      <th>js-keywords</th>\n",
              "    </tr>\n",
              "  </thead>\n",
              "  <tbody>\n",
              "    <tr>\n",
              "      <th>0</th>\n",
              "      <td>4</td>\n",
              "      <td>0</td>\n",
              "      <td>0</td>\n",
              "      <td>101</td>\n",
              "      <td>120</td>\n",
              "      <td>110.5</td>\n",
              "      <td>7.762087</td>\n",
              "      <td>4</td>\n",
              "      <td>0</td>\n",
              "      <td>0</td>\n",
              "    </tr>\n",
              "  </tbody>\n",
              "</table>\n",
              "</div>"
            ],
            "text/plain": [
              "   length  non-printable  punctuation  ...  distinct-byte  sql-keywords  js-keywords\n",
              "0       4              0            0  ...              4             0            0\n",
              "\n",
              "[1 rows x 10 columns]"
            ]
          },
          "metadata": {
            "tags": []
          }
        },
        {
          "output_type": "display_data",
          "data": {
            "text/plain": [
              "array([0.])"
            ]
          },
          "metadata": {
            "tags": []
          }
        },
        {
          "output_type": "stream",
          "text": [
            "Your payload exit is safe 200 OK\n",
            "\n"
          ],
          "name": "stdout"
        }
      ]
    }
  ]
}